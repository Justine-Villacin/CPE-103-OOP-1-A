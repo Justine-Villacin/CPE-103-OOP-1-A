{
  "nbformat": 4,
  "nbformat_minor": 0,
  "metadata": {
    "colab": {
      "provenance": [],
      "authorship_tag": "ABX9TyPmq5aCcWHE31XQe9kaNArH",
      "include_colab_link": true
    },
    "kernelspec": {
      "name": "python3",
      "display_name": "Python 3"
    },
    "language_info": {
      "name": "python"
    }
  },
  "cells": [
    {
      "cell_type": "markdown",
      "metadata": {
        "id": "view-in-github",
        "colab_type": "text"
      },
      "source": [
        "<a href=\"https://colab.research.google.com/github/Justine-Villacin/CPE-103-OOP-1-A/blob/main/MidtermExam.ipynb\" target=\"_parent\"><img src=\"https://colab.research.google.com/assets/colab-badge.svg\" alt=\"Open In Colab\"/></a>"
      ]
    },
    {
      "cell_type": "markdown",
      "source": [
        "# Number 1 - 10."
      ],
      "metadata": {
        "id": "FAL4wYfOSmg-"
      }
    },
    {
      "cell_type": "code",
      "source": [
        "i = 1\n",
        "while True:\n",
        "  if i%3 == 0:\n",
        "      break\n",
        "  print(i)\n",
        "\n",
        "  i + = 1"
      ],
      "metadata": {
        "colab": {
          "base_uri": "https://localhost:8080/",
          "height": 106
        },
        "id": "J5GupQpRSjjO",
        "outputId": "d9653abe-94ee-4cef-c9cd-6e142c916dca"
      },
      "execution_count": 26,
      "outputs": [
        {
          "output_type": "error",
          "ename": "SyntaxError",
          "evalue": "invalid syntax (<ipython-input-26-4b4e335b535b>, line 7)",
          "traceback": [
            "\u001b[0;36m  File \u001b[0;32m\"<ipython-input-26-4b4e335b535b>\"\u001b[0;36m, line \u001b[0;32m7\u001b[0m\n\u001b[0;31m    i + = 1\u001b[0m\n\u001b[0m        ^\u001b[0m\n\u001b[0;31mSyntaxError\u001b[0m\u001b[0;31m:\u001b[0m invalid syntax\n"
          ]
        }
      ]
    },
    {
      "cell_type": "markdown",
      "source": [
        "# Number 11 - 20."
      ],
      "metadata": {
        "id": "4gd8zR01T2aX"
      }
    },
    {
      "cell_type": "code",
      "source": [
        "i = 0\n",
        "while i < 5:\n",
        "  print(i)\n",
        "  i += 1\n",
        "  if i == 3:\n",
        "      break\n",
        "else:\n",
        "  print(0)"
      ],
      "metadata": {
        "colab": {
          "base_uri": "https://localhost:8080/"
        },
        "id": "K8dixB_7T5qG",
        "outputId": "d6b053af-523c-4c54-de8b-edb3222d8311"
      },
      "execution_count": 16,
      "outputs": [
        {
          "output_type": "stream",
          "name": "stdout",
          "text": [
            "0\n",
            "1\n",
            "2\n"
          ]
        }
      ]
    },
    {
      "cell_type": "markdown",
      "source": [
        "# Number 21 - 30.\n"
      ],
      "metadata": {
        "id": "XuE7o2JVUcEW"
      }
    },
    {
      "cell_type": "code",
      "source": [
        "def f1():\n",
        "    x = 15\n",
        "    print(x)\n",
        "x = 12\n",
        "f1()"
      ],
      "metadata": {
        "colab": {
          "base_uri": "https://localhost:8080/"
        },
        "id": "C1c13onrUeke",
        "outputId": "34c8d8c8-3412-4081-d886-5e936029f91a"
      },
      "execution_count": 27,
      "outputs": [
        {
          "output_type": "stream",
          "name": "stdout",
          "text": [
            "15\n"
          ]
        }
      ]
    },
    {
      "cell_type": "markdown",
      "source": [
        "# Number 31 - 40."
      ],
      "metadata": {
        "id": "-hc3k2uUUsgG"
      }
    },
    {
      "cell_type": "code",
      "source": [
        "class Person():\n",
        "  def __init__(self):\n",
        "    self.__name = \"Default Name\"\n",
        "\n",
        "person1 = Person()\n",
        "print(self.__name)"
      ],
      "metadata": {
        "colab": {
          "base_uri": "https://localhost:8080/",
          "height": 176
        },
        "id": "W1ewOHt0UxmP",
        "outputId": "855e82fa-984d-4581-c818-4ce416ec2066"
      },
      "execution_count": 21,
      "outputs": [
        {
          "output_type": "error",
          "ename": "NameError",
          "evalue": "name 'self' is not defined",
          "traceback": [
            "\u001b[0;31m---------------------------------------------------------------------------\u001b[0m",
            "\u001b[0;31mNameError\u001b[0m                                 Traceback (most recent call last)",
            "\u001b[0;32m<ipython-input-21-d6950dff70d7>\u001b[0m in \u001b[0;36m<cell line: 0>\u001b[0;34m()\u001b[0m\n\u001b[1;32m      4\u001b[0m \u001b[0;34m\u001b[0m\u001b[0m\n\u001b[1;32m      5\u001b[0m \u001b[0mperson1\u001b[0m \u001b[0;34m=\u001b[0m \u001b[0mPerson\u001b[0m\u001b[0;34m(\u001b[0m\u001b[0;34m)\u001b[0m\u001b[0;34m\u001b[0m\u001b[0;34m\u001b[0m\u001b[0m\n\u001b[0;32m----> 6\u001b[0;31m \u001b[0mprint\u001b[0m\u001b[0;34m(\u001b[0m\u001b[0mself\u001b[0m\u001b[0;34m.\u001b[0m\u001b[0m__name\u001b[0m\u001b[0;34m)\u001b[0m\u001b[0;34m\u001b[0m\u001b[0;34m\u001b[0m\u001b[0m\n\u001b[0m",
            "\u001b[0;31mNameError\u001b[0m: name 'self' is not defined"
          ]
        }
      ]
    },
    {
      "cell_type": "markdown",
      "source": [
        "# Number 41 - 60."
      ],
      "metadata": {
        "id": "Uto8_21dVRlm"
      }
    },
    {
      "cell_type": "code",
      "source": [
        "class Person():\n",
        "  def __init__(self):\n",
        "    self.name =\"Default Name\"\n",
        "\n",
        "person1 = Person()\n",
        "person2 = Person()\n",
        "print(person1)\n",
        "print(person2)"
      ],
      "metadata": {
        "colab": {
          "base_uri": "https://localhost:8080/"
        },
        "id": "kuGBw0cIU8R4",
        "outputId": "01aa33c0-67ad-4133-b966-6ddc83c4518d"
      },
      "execution_count": 29,
      "outputs": [
        {
          "output_type": "stream",
          "name": "stdout",
          "text": [
            "<__main__.Person object at 0x7843522662d0>\n",
            "<__main__.Person object at 0x784352267d50>\n"
          ]
        }
      ]
    },
    {
      "cell_type": "markdown",
      "source": [
        "# Number 61 - 80."
      ],
      "metadata": {
        "id": "7jr4jhlWV3dH"
      }
    },
    {
      "cell_type": "code",
      "source": [
        "class Student():\n",
        "  def __init__(self, student_number, name):\n",
        "    self.stu_number= student_number\n",
        "    self.stu_name= name\n",
        "\n",
        "class DSCOfficer(Student):\n",
        "  def __init__(self, department):\n",
        "    self.department = department\n",
        "    self.event_list = []\n",
        "\n",
        "  def initiateEvent(self, name):\n",
        "      self.event_list.append({\"name\":name})\n",
        "\n",
        "officer1 = DSCOfficer(\"CpE\")\n",
        "officer1.initiateEvent(\"General Assembly\")\n",
        "print(officer1.event_list)"
      ],
      "metadata": {
        "colab": {
          "base_uri": "https://localhost:8080/"
        },
        "id": "IXfiMjgiaeK3",
        "outputId": "1ab20afd-8e8d-47fa-fc70-d718b2473661"
      },
      "execution_count": 32,
      "outputs": [
        {
          "output_type": "stream",
          "name": "stdout",
          "text": [
            "[{'name': 'General Assembly'}]\n"
          ]
        }
      ]
    }
  ]
}