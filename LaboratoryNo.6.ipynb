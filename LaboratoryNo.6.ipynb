{
  "nbformat": 4,
  "nbformat_minor": 0,
  "metadata": {
    "colab": {
      "provenance": [],
      "authorship_tag": "ABX9TyNG6o4ZPtYd4spEFhDI3jI0",
      "include_colab_link": true
    },
    "kernelspec": {
      "name": "python3",
      "display_name": "Python 3"
    },
    "language_info": {
      "name": "python"
    }
  },
  "cells": [
    {
      "cell_type": "markdown",
      "metadata": {
        "id": "view-in-github",
        "colab_type": "text"
      },
      "source": [
        "<a href=\"https://colab.research.google.com/github/Justine-Villacin/CPE-103-OOP-1-A/blob/main/LaboratoryNo.6.ipynb\" target=\"_parent\"><img src=\"https://colab.research.google.com/assets/colab-badge.svg\" alt=\"Open In Colab\"/></a>"
      ]
    },
    {
      "cell_type": "markdown",
      "source": [
        "# Questions"
      ],
      "metadata": {
        "id": "OHhYVM3JkrMQ"
      }
    },
    {
      "cell_type": "markdown",
      "source": [
        "\n",
        "\n",
        "> 1. Inheritance is important because it allows code reuse and helps organize related classes efficiently.\n",
        "\n",
        "> 2. The advantage of inheritance is that it reduces code duplication and improves maintainability, but its disadvantage is that it can lead to tight coupling and complexity.\n",
        "\n",
        "> 3. Single inheritance means a class inherits from one parent, multiple inheritance means a class inherits from more than one parent, and multi-level inheritance means a class inherits from another class, which itself inherits from another class.\n",
        "\n",
        "> 4. The super().__init__(username) is used to call the parent class constructor to initialize inherited attributes.\n",
        "\n",
        "> 5. Encapsulation hides data to prevent unauthorized access, while abstraction simplifies code by showing only essential details, making programs more secure and easier to manage.\n",
        "\n",
        "\n",
        "\n",
        "\n",
        "\n",
        "\n",
        "\n",
        "\n",
        "\n",
        "\n"
      ],
      "metadata": {
        "id": "6QC1z2UqktoH"
      }
    },
    {
      "cell_type": "markdown",
      "source": [
        "# Conclusion"
      ],
      "metadata": {
        "id": "C6AqZfJek9VV"
      }
    },
    {
      "cell_type": "markdown",
      "source": [
        "\n",
        "\n",
        "> In conclusion, inheritance is useful for reusing code and structuring programs but can introduce complexity. Understanding different types of inheritance helps in designing better class relationships. Encapsulation and abstraction improve security and readability, making object-oriented programming more efficient.\n",
        "\n"
      ],
      "metadata": {
        "id": "RFHc3S6Nk_V4"
      }
    }
  ]
}