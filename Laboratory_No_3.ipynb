{
  "nbformat": 4,
  "nbformat_minor": 0,
  "metadata": {
    "colab": {
      "provenance": [],
      "toc_visible": true,
      "authorship_tag": "ABX9TyP1pgdpIUu9LNGc6eWRXw7m",
      "include_colab_link": true
    },
    "kernelspec": {
      "name": "python3",
      "display_name": "Python 3"
    },
    "language_info": {
      "name": "python"
    }
  },
  "cells": [
    {
      "cell_type": "markdown",
      "metadata": {
        "id": "view-in-github",
        "colab_type": "text"
      },
      "source": [
        "<a href=\"https://colab.research.google.com/github/Justine-Villacin/CPE-103-OOP-1-A/blob/main/Laboratory_No_3.ipynb\" target=\"_parent\"><img src=\"https://colab.research.google.com/assets/colab-badge.svg\" alt=\"Open In Colab\"/></a>"
      ]
    },
    {
      "cell_type": "markdown",
      "source": [
        "# Program Output"
      ],
      "metadata": {
        "id": "ht59Wmqp9jeE"
      }
    },
    {
      "cell_type": "code",
      "execution_count": 8,
      "metadata": {
        "id": "ezZ2IEm-NgCu",
        "colab": {
          "base_uri": "https://localhost:8080/"
        },
        "outputId": "ca941e4f-b6ab-4cdc-9996-ec095bd64158"
      },
      "outputs": [
        {
          "output_type": "stream",
          "name": "stdout",
          "text": [
            "Account 1\n",
            "Royce\n",
            "Chua\n",
            "1000\n",
            "Silver Street Quezon City\n",
            "roycechua123@gmail.com\n",
            "\n",
            "Account 2\n",
            "John\n",
            "Doc\n",
            "2000\n",
            "Gold Street Quezon City\n",
            "johndoe@yahoo.com\n"
          ]
        }
      ],
      "source": [
        "from typing_extensions import Self\n",
        "\n",
        "class Accounts(): #create the class\n",
        "  account_number = 0\n",
        "  account_firstname = \"\"\n",
        "  account_lastname = \"\"\n",
        "  current_balance = 0.0\n",
        "  address = \"\"\n",
        "  email = \"\"\n",
        "\n",
        "  def update_address(self, new_address):\n",
        "    self.address = new_address\n",
        "\n",
        "  def update_email(self, new_email):\n",
        "    self.email = new_email\n",
        "\n",
        "class ATM():\n",
        "  serial_number = 0\n",
        "\n",
        "  def deposit(self, account, amount):\n",
        "    account.current_balance = account.current_balance + amount\n",
        "    print (\"Deposit Complete\")\n",
        "\n",
        "  def withdraw(self, account, amount):\n",
        "    account.current_balance = account.current_balance - amount\n",
        "    print (\"Withdraw Complete\")\n",
        "\n",
        "  def check_currentbalance(self, account):\n",
        "    print (account.current_balance)\n",
        "\n",
        "\n",
        "Account1 = Accounts() #create the instance/object\n",
        "\n",
        "print (\"Account 1\")\n",
        "Account1.account_firstname = \"Royce\"\n",
        "Account1.account_lastname = \"Chua\"\n",
        "Account1.current_balance = 1000\n",
        "Account1.address = \"Silver Street Quezon City\"\n",
        "Account1.email = \"roycechua123@gmail.com\"\n",
        "\n",
        "print(Account1.account_firstname)\n",
        "print(Account1.account_lastname)\n",
        "print(Account1.current_balance)\n",
        "print(Account1.address)\n",
        "print(Account1.email)\n",
        "\n",
        "print()\n",
        "\n",
        "Account2 = Accounts()\n",
        "Account2.account_firstname = \"John\"\n",
        "Account2.account_lastname = \"Doc\"\n",
        "Account2.current_balance = 2000\n",
        "Account2.address = \"Gold Street Quezon City\"\n",
        "Account2.email = \"johndoe@yahoo.com\"\n",
        "\n",
        "print(\"Account 2\")\n",
        "print(Account2.account_firstname)\n",
        "print(Account2.account_lastname)\n",
        "print(Account2.current_balance)\n",
        "print(Account2.address)\n",
        "print(Account2.email)"
      ]
    },
    {
      "cell_type": "markdown",
      "source": [
        "# Questions\n"
      ],
      "metadata": {
        "id": "DwOiSy5m9dmL"
      }
    },
    {
      "cell_type": "markdown",
      "source": [
        "1. In Object-Oriented Programming (OOP), a class is a blueprint used to create objects. It specifies the form and characteristics of the items made from it.\n"
      ],
      "metadata": {
        "id": "T5fw5MJf9h-i"
      }
    },
    {
      "cell_type": "markdown",
      "source": [
        "2. Sequential programming works well for simpler tasks, but classes are useful for larger, more complicated systems that need organization, reusability, and maintainability.\n"
      ],
      "metadata": {
        "id": "JCQ5Y-w2_vIk"
      }
    },
    {
      "cell_type": "markdown",
      "source": [
        "\n",
        "3. While it's typical practice to use identical names for variables in multiple scopes to preserve clarity, it's usually advised to use descriptive names to prevent confusion, particularly in bigger systems. This technique improves readability and helps avoid errors in future code maintenance.\n"
      ],
      "metadata": {
        "id": "Dky6zxb7_xUL"
      }
    },
    {
      "cell_type": "markdown",
      "source": [
        "\n",
        "4. Constructors are crucial because they guarantee that objects are initialized with proper states at the time of creation, ready for use right away.\n"
      ],
      "metadata": {
        "id": "u8gucEVM_zBl"
      }
    },
    {
      "cell_type": "markdown",
      "source": [
        "5. Constructors make it easier to create objects, organize code, lower the possibility of mistakes, and make programming more maintainable overall."
      ],
      "metadata": {
        "id": "P3GuDIaV_0iN"
      }
    },
    {
      "cell_type": "markdown",
      "source": [
        "# Conclusion"
      ],
      "metadata": {
        "id": "BF-uwUR0_eZl"
      }
    },
    {
      "cell_type": "markdown",
      "source": [
        "In conclusion, there are a lot of benefits to utilizing constructors in programming as opposed to manually initializing variables. They improve encapsulation, lower the chance of errors, encourage better code structure and readability, and guarantee automated and consistent initialization of object characteristics. Constructors are a best practice in object-oriented programming because they make code more flexible and maintainable by encapsulating the initialization logic inside the class.\n",
        "\n",
        "\n",
        "\n"
      ],
      "metadata": {
        "id": "WE_yXKJ4_iH6"
      }
    }
  ]
}