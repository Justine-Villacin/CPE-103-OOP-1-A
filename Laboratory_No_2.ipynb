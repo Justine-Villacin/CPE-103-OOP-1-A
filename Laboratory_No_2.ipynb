{
  "nbformat": 4,
  "nbformat_minor": 0,
  "metadata": {
    "colab": {
      "provenance": [],
      "toc_visible": true,
      "authorship_tag": "ABX9TyMlDQ6LrjSm6uW6RuBB/bo7",
      "include_colab_link": true
    },
    "kernelspec": {
      "name": "python3",
      "display_name": "Python 3"
    },
    "language_info": {
      "name": "python"
    }
  },
  "cells": [
    {
      "cell_type": "markdown",
      "metadata": {
        "id": "view-in-github",
        "colab_type": "text"
      },
      "source": [
        "<a href=\"https://colab.research.google.com/github/Justine-Villacin/CPE-103-OOP-1-A/blob/main/Laboratory_No_2.ipynb\" target=\"_parent\"><img src=\"https://colab.research.google.com/assets/colab-badge.svg\" alt=\"Open In Colab\"/></a>"
      ]
    },
    {
      "cell_type": "markdown",
      "source": [
        "# Assigning variables of different data types in python"
      ],
      "metadata": {
        "id": "WjBG9QEUv-Up"
      }
    },
    {
      "cell_type": "markdown",
      "source": [
        "Number 1."
      ],
      "metadata": {
        "id": "4vERkbyqm574"
      }
    },
    {
      "cell_type": "code",
      "source": [
        "value = 5\n",
        "print (value)"
      ],
      "metadata": {
        "colab": {
          "base_uri": "https://localhost:8080/"
        },
        "id": "jYztj04hpBdp",
        "outputId": "1530ebac-a62c-4955-d608-c12092e4e577"
      },
      "execution_count": 24,
      "outputs": [
        {
          "output_type": "stream",
          "name": "stdout",
          "text": [
            "5\n"
          ]
        }
      ]
    },
    {
      "cell_type": "markdown",
      "source": [
        "Number 2."
      ],
      "metadata": {
        "id": "aVBMwx6qpLeo"
      }
    },
    {
      "cell_type": "code",
      "source": [
        "type (value)"
      ],
      "metadata": {
        "colab": {
          "base_uri": "https://localhost:8080/"
        },
        "id": "waZAMA5JpYLp",
        "outputId": "9a76519f-9855-4ab4-cbca-241e697ba240"
      },
      "execution_count": 25,
      "outputs": [
        {
          "output_type": "execute_result",
          "data": {
            "text/plain": [
              "int"
            ]
          },
          "metadata": {},
          "execution_count": 25
        }
      ]
    },
    {
      "cell_type": "markdown",
      "source": [
        "Number 3."
      ],
      "metadata": {
        "id": "v7cnOvWXpYjA"
      }
    },
    {
      "cell_type": "code",
      "source": [
        "value = 5.0\n",
        "print (value)"
      ],
      "metadata": {
        "colab": {
          "base_uri": "https://localhost:8080/"
        },
        "id": "HsP2b0rxpGjQ",
        "outputId": "32304f21-7f69-4ea0-8532-66427631dee8"
      },
      "execution_count": 27,
      "outputs": [
        {
          "output_type": "stream",
          "name": "stdout",
          "text": [
            "5.0\n"
          ]
        }
      ]
    },
    {
      "cell_type": "markdown",
      "source": [
        "Number 4."
      ],
      "metadata": {
        "id": "xCdtruvhpNZY"
      }
    },
    {
      "cell_type": "code",
      "source": [
        "type (value)"
      ],
      "metadata": {
        "colab": {
          "base_uri": "https://localhost:8080/"
        },
        "id": "iny_lyYSpNHI",
        "outputId": "7d24cee5-7300-4d38-81b7-676e698f724c"
      },
      "execution_count": 28,
      "outputs": [
        {
          "output_type": "execute_result",
          "data": {
            "text/plain": [
              "float"
            ]
          },
          "metadata": {},
          "execution_count": 28
        }
      ]
    },
    {
      "cell_type": "markdown",
      "source": [
        "Number 5. A"
      ],
      "metadata": {
        "id": "GU_qy-dYpodJ"
      }
    },
    {
      "cell_type": "code",
      "source": [
        "value = 2 + 3j\n",
        "type (value)"
      ],
      "metadata": {
        "colab": {
          "base_uri": "https://localhost:8080/"
        },
        "id": "G_cnEzR2pqHJ",
        "outputId": "f34426a6-0544-4df7-d398-055bc8cb4125"
      },
      "execution_count": 30,
      "outputs": [
        {
          "output_type": "execute_result",
          "data": {
            "text/plain": [
              "complex"
            ]
          },
          "metadata": {},
          "execution_count": 30
        }
      ]
    },
    {
      "cell_type": "markdown",
      "source": [
        "Number 5. B"
      ],
      "metadata": {
        "id": "K-QvR36GqNFw"
      }
    },
    {
      "cell_type": "code",
      "source": [
        "value = 'Hello World'\n",
        "type (value)"
      ],
      "metadata": {
        "colab": {
          "base_uri": "https://localhost:8080/"
        },
        "id": "ArhEBARmqQFg",
        "outputId": "3ea83a7b-5814-4098-e33b-316e40eab597"
      },
      "execution_count": 31,
      "outputs": [
        {
          "output_type": "execute_result",
          "data": {
            "text/plain": [
              "str"
            ]
          },
          "metadata": {},
          "execution_count": 31
        }
      ]
    },
    {
      "cell_type": "markdown",
      "source": [
        "Number 5. C"
      ],
      "metadata": {
        "id": "CxCnRhW8qYHQ"
      }
    },
    {
      "cell_type": "code",
      "source": [
        "value = \"Hello World\"\n",
        "type (value)"
      ],
      "metadata": {
        "colab": {
          "base_uri": "https://localhost:8080/"
        },
        "id": "kNMmDFGrqZS4",
        "outputId": "2f1d348e-eda5-44d6-96ee-7b6a109bea15"
      },
      "execution_count": 32,
      "outputs": [
        {
          "output_type": "execute_result",
          "data": {
            "text/plain": [
              "str"
            ]
          },
          "metadata": {},
          "execution_count": 32
        }
      ]
    },
    {
      "cell_type": "markdown",
      "source": [
        "Number 5. D"
      ],
      "metadata": {
        "id": "6PnbqAn6qiOo"
      }
    },
    {
      "cell_type": "code",
      "source": [
        "value = True\n",
        "type (value)"
      ],
      "metadata": {
        "colab": {
          "base_uri": "https://localhost:8080/"
        },
        "id": "DZkfuylVqjNi",
        "outputId": "4f78505b-3382-4b03-f0e4-3b442dfedb17"
      },
      "execution_count": 34,
      "outputs": [
        {
          "output_type": "execute_result",
          "data": {
            "text/plain": [
              "bool"
            ]
          },
          "metadata": {},
          "execution_count": 34
        }
      ]
    },
    {
      "cell_type": "markdown",
      "source": [
        "Number 5. E"
      ],
      "metadata": {
        "id": "JckjLRwiqsep"
      }
    },
    {
      "cell_type": "code",
      "source": [
        "value = False\n",
        "type (value)"
      ],
      "metadata": {
        "colab": {
          "base_uri": "https://localhost:8080/"
        },
        "id": "AyaGEkMUqu6g",
        "outputId": "47845680-1d9e-4611-b3af-01c988e32545"
      },
      "execution_count": 35,
      "outputs": [
        {
          "output_type": "execute_result",
          "data": {
            "text/plain": [
              "bool"
            ]
          },
          "metadata": {},
          "execution_count": 35
        }
      ]
    },
    {
      "cell_type": "markdown",
      "source": [
        "Number 5. F"
      ],
      "metadata": {
        "id": "ytJmbHCMqzcA"
      }
    },
    {
      "cell_type": "code",
      "source": [
        "value = [1, 2, 3, 4, 5]\n",
        "type (value)"
      ],
      "metadata": {
        "colab": {
          "base_uri": "https://localhost:8080/"
        },
        "id": "QD1IrgWXq1Ig",
        "outputId": "6fd078fc-56a6-463f-e323-41a8d962eeed"
      },
      "execution_count": 36,
      "outputs": [
        {
          "output_type": "execute_result",
          "data": {
            "text/plain": [
              "list"
            ]
          },
          "metadata": {},
          "execution_count": 36
        }
      ]
    },
    {
      "cell_type": "markdown",
      "source": [
        " Number 5. G"
      ],
      "metadata": {
        "id": "TvaW9q-Mq8gw"
      }
    },
    {
      "cell_type": "code",
      "source": [
        "value = (1, 2, 3, 4, 5)\n",
        "type (value)"
      ],
      "metadata": {
        "colab": {
          "base_uri": "https://localhost:8080/"
        },
        "id": "FrK4AbiWq70Z",
        "outputId": "65fd5b09-4ded-4d61-eea0-57be0a36d282"
      },
      "execution_count": 37,
      "outputs": [
        {
          "output_type": "execute_result",
          "data": {
            "text/plain": [
              "tuple"
            ]
          },
          "metadata": {},
          "execution_count": 37
        }
      ]
    },
    {
      "cell_type": "markdown",
      "source": [
        "Number 5. H"
      ],
      "metadata": {
        "id": "sDfuoLEjrBCJ"
      }
    },
    {
      "cell_type": "code",
      "source": [
        "value = {'name': 'Your name'}\n",
        "type (value)"
      ],
      "metadata": {
        "colab": {
          "base_uri": "https://localhost:8080/"
        },
        "id": "ZwFpeoRCrCi6",
        "outputId": "14ba6a7e-a81a-4749-c24d-9c95f4ccc1b3"
      },
      "execution_count": 38,
      "outputs": [
        {
          "output_type": "execute_result",
          "data": {
            "text/plain": [
              "dict"
            ]
          },
          "metadata": {},
          "execution_count": 38
        }
      ]
    },
    {
      "cell_type": "markdown",
      "source": [
        "Number 5. I"
      ],
      "metadata": {
        "id": "5Ex_TdgUrzQg"
      }
    },
    {
      "cell_type": "code",
      "source": [
        "value = None\n",
        "type (value)"
      ],
      "metadata": {
        "colab": {
          "base_uri": "https://localhost:8080/"
        },
        "id": "75xLfzacr0bI",
        "outputId": "d4444f9d-adb9-4fe4-e301-b26cbb93a03b"
      },
      "execution_count": 39,
      "outputs": [
        {
          "output_type": "execute_result",
          "data": {
            "text/plain": [
              "NoneType"
            ]
          },
          "metadata": {},
          "execution_count": 39
        }
      ]
    },
    {
      "cell_type": "markdown",
      "source": [
        "Number 6."
      ],
      "metadata": {
        "id": "vSVe45airQHI"
      }
    },
    {
      "cell_type": "code",
      "source": [
        "value = 5\n"
      ],
      "metadata": {
        "id": "jOu6YlYurPzw"
      },
      "execution_count": 129,
      "outputs": []
    },
    {
      "cell_type": "markdown",
      "source": [
        "Number 7."
      ],
      "metadata": {
        "id": "tpDixalosLDJ"
      }
    },
    {
      "cell_type": "code",
      "source": [
        "value2 = -6"
      ],
      "metadata": {
        "id": "0XD6yLiNsN-4"
      },
      "execution_count": 130,
      "outputs": []
    },
    {
      "cell_type": "markdown",
      "source": [
        "# Performing Operations with Python"
      ],
      "metadata": {
        "id": "cQPJMa8TwJoh"
      }
    },
    {
      "cell_type": "markdown",
      "source": [
        "Number 1."
      ],
      "metadata": {
        "id": "QMsJj-wysYcp"
      }
    },
    {
      "cell_type": "code",
      "source": [
        "print (value + value2)"
      ],
      "metadata": {
        "colab": {
          "base_uri": "https://localhost:8080/"
        },
        "id": "kvj_fisLsX5A",
        "outputId": "e5fb803e-5378-4eff-cc55-0967b858fec2"
      },
      "execution_count": 131,
      "outputs": [
        {
          "output_type": "stream",
          "name": "stdout",
          "text": [
            "-1\n"
          ]
        }
      ]
    },
    {
      "cell_type": "code",
      "source": [
        "print (value - value2)"
      ],
      "metadata": {
        "colab": {
          "base_uri": "https://localhost:8080/"
        },
        "id": "jqQ8gRhS62gK",
        "outputId": "8504e672-e351-4cda-b114-40cbc49a8283"
      },
      "execution_count": 132,
      "outputs": [
        {
          "output_type": "stream",
          "name": "stdout",
          "text": [
            "11\n"
          ]
        }
      ]
    },
    {
      "cell_type": "markdown",
      "source": [
        "Number 2. A"
      ],
      "metadata": {
        "id": "p0CbhoQNsjOh"
      }
    },
    {
      "cell_type": "code",
      "source": [
        "value, value2 = 5.0, 6\n",
        "print (value + value2)"
      ],
      "metadata": {
        "colab": {
          "base_uri": "https://localhost:8080/"
        },
        "id": "50OiqxQIslXQ",
        "outputId": "717a54da-5364-443d-db20-bbbc89339e16"
      },
      "execution_count": 68,
      "outputs": [
        {
          "output_type": "stream",
          "name": "stdout",
          "text": [
            "11.0\n"
          ]
        }
      ]
    },
    {
      "cell_type": "code",
      "source": [
        "value, value2 = 5.0, 6\n",
        "print (value - value2)"
      ],
      "metadata": {
        "colab": {
          "base_uri": "https://localhost:8080/"
        },
        "id": "5IXWaJpo67X6",
        "outputId": "faf71edb-d398-48aa-e178-a5cfe4c2d6af"
      },
      "execution_count": 133,
      "outputs": [
        {
          "output_type": "stream",
          "name": "stdout",
          "text": [
            "-1.0\n"
          ]
        }
      ]
    },
    {
      "cell_type": "markdown",
      "source": [
        "Number 2. B"
      ],
      "metadata": {
        "id": "Y93tM2VStFkw"
      }
    },
    {
      "cell_type": "code",
      "source": [
        "value, value2 = -5, 6.1\n",
        "print (value + value2)"
      ],
      "metadata": {
        "colab": {
          "base_uri": "https://localhost:8080/"
        },
        "id": "IrIFWCp8tHd4",
        "outputId": "827bfeae-3a02-4fe9-c3e6-f2d70f3b34cb"
      },
      "execution_count": 69,
      "outputs": [
        {
          "output_type": "stream",
          "name": "stdout",
          "text": [
            "1.0999999999999996\n"
          ]
        }
      ]
    },
    {
      "cell_type": "code",
      "source": [
        "value, value2 = -5, 6.1\n",
        "print (value - value2)"
      ],
      "metadata": {
        "colab": {
          "base_uri": "https://localhost:8080/"
        },
        "id": "fdhZxK3t69-L",
        "outputId": "a98f9351-7475-4cc5-97bd-80ecc9585efd"
      },
      "execution_count": 134,
      "outputs": [
        {
          "output_type": "stream",
          "name": "stdout",
          "text": [
            "-11.1\n"
          ]
        }
      ]
    },
    {
      "cell_type": "markdown",
      "source": [
        "Number 2. C"
      ],
      "metadata": {
        "id": "po7RwSt9tlnA"
      }
    },
    {
      "cell_type": "code",
      "source": [
        "value, value2 = \"Hello \", \"World\"\n",
        "print (value + value2)"
      ],
      "metadata": {
        "colab": {
          "base_uri": "https://localhost:8080/"
        },
        "id": "12NaMH3DtsC4",
        "outputId": "5ac520c1-2100-4f26-cbe1-c3c3eb4d50bb"
      },
      "execution_count": 70,
      "outputs": [
        {
          "output_type": "stream",
          "name": "stdout",
          "text": [
            "Hello World\n"
          ]
        }
      ]
    },
    {
      "cell_type": "markdown",
      "source": [
        "Number 2. D"
      ],
      "metadata": {
        "id": "NbBSCoe9t5bo"
      }
    },
    {
      "cell_type": "code",
      "source": [
        "value, value2 = [1, 2, 3], [4, 5, 6]\n",
        "print (value + value2)"
      ],
      "metadata": {
        "colab": {
          "base_uri": "https://localhost:8080/"
        },
        "id": "xY135QPNt5AA",
        "outputId": "096ae658-6794-4bfc-a893-3dec569c00f8"
      },
      "execution_count": 71,
      "outputs": [
        {
          "output_type": "stream",
          "name": "stdout",
          "text": [
            "[1, 2, 3, 4, 5, 6]\n"
          ]
        }
      ]
    },
    {
      "cell_type": "markdown",
      "source": [
        "Number 2. E"
      ],
      "metadata": {
        "id": "RMTrqrx8uKqp"
      }
    },
    {
      "cell_type": "code",
      "source": [
        "value, value2 = (1, 2, 3), (4, 5, 6)\n",
        "print (value + value2)"
      ],
      "metadata": {
        "colab": {
          "base_uri": "https://localhost:8080/"
        },
        "id": "dRI22OVzuMUI",
        "outputId": "c54bee14-1651-4621-e812-116c02809667"
      },
      "execution_count": 72,
      "outputs": [
        {
          "output_type": "stream",
          "name": "stdout",
          "text": [
            "(1, 2, 3, 4, 5, 6)\n"
          ]
        }
      ]
    },
    {
      "cell_type": "markdown",
      "source": [
        "Number 2. F"
      ],
      "metadata": {
        "id": "4VpWueJ4uQzw"
      }
    },
    {
      "cell_type": "code",
      "source": [
        "value, value2 = {\"name\": \"Royce\"}, {\"age\": 2}\n",
        "print ({**value, **value2})"
      ],
      "metadata": {
        "colab": {
          "base_uri": "https://localhost:8080/"
        },
        "id": "8uKKz7TbuQh4",
        "outputId": "5d828afa-031e-4e1a-b1eb-5823edfa51d7"
      },
      "execution_count": 99,
      "outputs": [
        {
          "output_type": "stream",
          "name": "stdout",
          "text": [
            "{'name': 'Royce', 'age': 2}\n"
          ]
        }
      ]
    },
    {
      "cell_type": "markdown",
      "source": [
        "Number 3."
      ],
      "metadata": {
        "id": "3TL9OJWmy-an"
      }
    },
    {
      "cell_type": "code",
      "source": [
        "value, value2 = 30, 4\n",
        "print (\"a.\", value*value2)\n",
        "print (\"b.\", value2**2)\n",
        "print (\"c.\", value2**3)\n",
        "print (\"d.\", value*value2 + value2**2+1)\n",
        "print (\"e.\", value/value2)\n",
        "print (\"f\", value%value2)"
      ],
      "metadata": {
        "colab": {
          "base_uri": "https://localhost:8080/"
        },
        "id": "Yh6iYwk1zAbI",
        "outputId": "e44a22c2-0930-4710-ccc3-a65182a7df22"
      },
      "execution_count": 103,
      "outputs": [
        {
          "output_type": "stream",
          "name": "stdout",
          "text": [
            "a. 120\n",
            "b. 16\n",
            "c. 64\n",
            "d. 137\n",
            "e. 7.5\n",
            "f 2\n"
          ]
        }
      ]
    },
    {
      "cell_type": "markdown",
      "source": [
        "Receiving Input Data using python"
      ],
      "metadata": {
        "id": "r8pLWm_D0QxR"
      }
    },
    {
      "cell_type": "code",
      "source": [
        "name = input (\"Enter your name: \")"
      ],
      "metadata": {
        "colab": {
          "base_uri": "https://localhost:8080/"
        },
        "id": "TXH-UE2W0WAA",
        "outputId": "a38ff07a-88b5-44d2-e1a7-f0f09f0968e7"
      },
      "execution_count": 104,
      "outputs": [
        {
          "name": "stdout",
          "output_type": "stream",
          "text": [
            "Enter your name: Justine Villacin\n"
          ]
        }
      ]
    },
    {
      "cell_type": "markdown",
      "source": [
        "# Assigning Input Data to a Variable"
      ],
      "metadata": {
        "id": "t7ARYvlr0uGc"
      }
    },
    {
      "cell_type": "markdown",
      "source": [
        "Finding a person's BMI (metric)"
      ],
      "metadata": {
        "id": "7R7ftIm201mw"
      }
    },
    {
      "cell_type": "code",
      "source": [
        "name = input (\"Enter your name: \")\n",
        "weight = float(input (\"Enter your weight (kg): \"))\n",
        "height = float(input (\"Enter your height (m): \"))\n",
        "bmi = (weight) / (height)**2\n",
        "\n",
        "print (\"\\nName: \", name)\n",
        "print (\"Weight: \", weight, \"kg\")\n",
        "print (\"Height: \", height, \"m\")\n",
        "print (\"BMI: \", bmi)"
      ],
      "metadata": {
        "colab": {
          "base_uri": "https://localhost:8080/"
        },
        "id": "-f2yab5H0zuI",
        "outputId": "1d2a778f-f071-4bed-c8a9-0de180bea2d9"
      },
      "execution_count": 119,
      "outputs": [
        {
          "output_type": "stream",
          "name": "stdout",
          "text": [
            "Enter your name: John Ray\n",
            "Enter your weight (kg): 60\n",
            "Enter your height (m): 1.6764\n",
            "\n",
            "Name:  John Ray\n",
            "Weight:  60.0 kg\n",
            "Height:  1.6764 m\n",
            "BMI:  21.349904958763087\n"
          ]
        }
      ]
    },
    {
      "cell_type": "markdown",
      "source": [
        "# Supplementary Activity"
      ],
      "metadata": {
        "id": "U-QHl9cX4Jgo"
      }
    },
    {
      "cell_type": "markdown",
      "source": [
        "Number 1."
      ],
      "metadata": {
        "id": "JgKo6CKd7575"
      }
    },
    {
      "cell_type": "code",
      "source": [
        " # Area of Triangle\n",
        "base = float(input(\"Enter base: \"))\n",
        "height = float(input(\"Enter height: \"))\n",
        "area = 0.5 * base * height\n",
        "print(\"Area of triangle:\", area)"
      ],
      "metadata": {
        "colab": {
          "base_uri": "https://localhost:8080/"
        },
        "id": "v9k7lJFj4mX_",
        "outputId": "f8f6f98c-c860-453c-c058-6d7208ed955f"
      },
      "execution_count": 143,
      "outputs": [
        {
          "output_type": "stream",
          "name": "stdout",
          "text": [
            "Enter base: 5\n",
            "Enter height: 12\n",
            "Area of triangle: 30.0\n"
          ]
        }
      ]
    },
    {
      "cell_type": "markdown",
      "source": [
        "Number 2."
      ],
      "metadata": {
        "id": "5vbWt1Nx74QE"
      }
    },
    {
      "cell_type": "code",
      "source": [
        "C = float(input(\"Enter temperature in celcius: \"))\n",
        "fahrenheit = (C * 9/5) + 32\n",
        "print ( \"The Fahrenheit value is: \", fahrenheit, \"°F\")"
      ],
      "metadata": {
        "colab": {
          "base_uri": "https://localhost:8080/"
        },
        "id": "A8ZSqj7X5zZI",
        "outputId": "7ae1d649-de3e-472f-b709-0ce419510444"
      },
      "execution_count": 153,
      "outputs": [
        {
          "output_type": "stream",
          "name": "stdout",
          "text": [
            "Enter temperature in celcius: 0\n",
            "The Fahrenheit value is:  32.0 °F\n"
          ]
        }
      ]
    },
    {
      "cell_type": "markdown",
      "source": [
        "Number 3."
      ],
      "metadata": {
        "id": "twviw4W79nCZ"
      }
    },
    {
      "cell_type": "code",
      "source": [
        "x1 = float(input(\"Enter x1: \"))\n",
        "y1 = float(input(\"Enter y1: \"))\n",
        "x2 = float(input(\"Enter x2: \"))\n",
        "y2 = float(input(\"Enter y2: \"))\n",
        "\n",
        "distance = ((x2 - x1)**2 + (y2 - y1)**2)**0.5\n",
        "print (\"The distance between the two points is: \", distance)"
      ],
      "metadata": {
        "colab": {
          "base_uri": "https://localhost:8080/"
        },
        "id": "wsIXterU9pHp",
        "outputId": "b9e83747-c04c-47cf-b8bc-5ac696d7cb5c"
      },
      "execution_count": 155,
      "outputs": [
        {
          "output_type": "stream",
          "name": "stdout",
          "text": [
            "Enter x1: 2\n",
            "Enter y1: 2\n",
            "Enter x2: -3\n",
            "Enter y2: 3\n",
            "The distance between the two points is:  5.0990195135927845\n"
          ]
        }
      ]
    },
    {
      "cell_type": "markdown",
      "source": [
        "# Questions"
      ],
      "metadata": {
        "id": "6XSBU7QP-Td6"
      }
    },
    {
      "cell_type": "markdown",
      "source": [
        "1. Indentation in Python and '{}' in C are the primary ways that Python and C differ from one another. All things considered, this indicates that Python's syntax is easier to read and write."
      ],
      "metadata": {
        "id": "nUxYket6-ZXT"
      }
    },
    {
      "cell_type": "markdown",
      "source": [
        "2. Variable assignments in Python are dynamic, thus you don't need to specify the variable's type. You can just state \"x = 7\" without reservation. Consider, for example, \"C\" programming. First, you must make a declaration, which means you must write \"int x = 7;.\""
      ],
      "metadata": {
        "id": "esvyEwrWBdIq"
      }
    },
    {
      "cell_type": "markdown",
      "source": [
        "3. Variable name first characters: Python prohibits variable names from beginning with a number. Python will generate a Syntax error if we attempt to use a number before the variable."
      ],
      "metadata": {
        "id": "7adLruhOBhQa"
      }
    },
    {
      "cell_type": "markdown",
      "source": [
        "4. Assignment Operators in Relation to Various Objects: The assignment operators in Python (+, -, *, /, %, and **) do modify a range of data types, although their methods vary slightly."
      ],
      "metadata": {
        "id": "j9GgVDf9BumS"
      }
    },
    {
      "cell_type": "markdown",
      "source": [
        "5. The ** operator is use for exponentiation while the * operator is use for multiplication."
      ],
      "metadata": {
        "id": "gih4aJ8LC3QB"
      }
    },
    {
      "cell_type": "markdown",
      "source": [
        "# Conclusion"
      ],
      "metadata": {
        "id": "MrYaMkZfDHxK"
      }
    },
    {
      "cell_type": "markdown",
      "source": [
        "In conclusion, it's easy to use and manipulate variables in python. because the function of this programming language is so effortless to shift between different data types because there are no additional procedures that you need to follow when assigning different types of values to single variable. python also provides an easier way to connect variables to user input for later use. In simple term, the combination of python's simple techniques to deal with variables and operations performs a fast and efficient coding for all programmers."
      ],
      "metadata": {
        "id": "1UD1f6lYGoPZ"
      }
    }
  ]
}