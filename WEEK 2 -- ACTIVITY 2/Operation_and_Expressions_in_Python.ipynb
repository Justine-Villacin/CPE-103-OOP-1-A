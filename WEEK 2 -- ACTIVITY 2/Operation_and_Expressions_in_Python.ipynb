{
  "nbformat": 4,
  "nbformat_minor": 0,
  "metadata": {
    "colab": {
      "provenance": [],
      "toc_visible": true,
      "authorship_tag": "ABX9TyOlJcncA2+5PZ2Te9WN7fND",
      "include_colab_link": true
    },
    "kernelspec": {
      "name": "python3",
      "display_name": "Python 3"
    },
    "language_info": {
      "name": "python"
    }
  },
  "cells": [
    {
      "cell_type": "markdown",
      "metadata": {
        "id": "view-in-github",
        "colab_type": "text"
      },
      "source": [
        "<a href=\"https://colab.research.google.com/github/Justine-Villacin/CPE-103-OOP-1-A/blob/main/Operation_and_Expressions_in_Python.ipynb\" target=\"_parent\"><img src=\"https://colab.research.google.com/assets/colab-badge.svg\" alt=\"Open In Colab\"/></a>"
      ]
    },
    {
      "cell_type": "markdown",
      "source": [
        "# Boolean Operators"
      ],
      "metadata": {
        "id": "qhfn3pOZx7jW"
      }
    },
    {
      "cell_type": "code",
      "execution_count": 227,
      "metadata": {
        "colab": {
          "base_uri": "https://localhost:8080/"
        },
        "id": "_y4en14GxBG3",
        "outputId": "5d567832-d25c-4215-893d-1787a99d7f71"
      },
      "outputs": [
        {
          "output_type": "stream",
          "name": "stdout",
          "text": [
            "True\n",
            "False\n",
            "False\n"
          ]
        }
      ],
      "source": [
        "print (10 > 9)\n",
        "print (10 == 9)\n",
        "print (10 < 9)"
      ]
    },
    {
      "cell_type": "markdown",
      "source": [
        "# Bool() Function"
      ],
      "metadata": {
        "id": "Xoi6KsiIzaAk"
      }
    },
    {
      "cell_type": "code",
      "source": [
        "print(bool(1))\n",
        "print(bool(0))\n",
        "print(bool(-2))\n"
      ],
      "metadata": {
        "colab": {
          "base_uri": "https://localhost:8080/"
        },
        "id": "bGjJrGh4ypi9",
        "outputId": "d3f04886-8f5a-470b-dd5a-410b6a8d8c6b"
      },
      "execution_count": null,
      "outputs": [
        {
          "output_type": "stream",
          "name": "stdout",
          "text": [
            "True\n",
            "False\n",
            "True\n"
          ]
        }
      ]
    },
    {
      "cell_type": "markdown",
      "source": [
        "# Functionn can Return a Boolean"
      ],
      "metadata": {
        "id": "UrPtrzlwz6g1"
      }
    },
    {
      "cell_type": "code",
      "source": [
        "def myFunction():\n",
        "  return True\n",
        "\n",
        "if myFunction():\n",
        "  print(\"YES!\")\n",
        "\n",
        "else:\n",
        "  print(\"NO!\")"
      ],
      "metadata": {
        "colab": {
          "base_uri": "https://localhost:8080/"
        },
        "id": "6ORSUwjwzlms",
        "outputId": "f7eedf85-eaaa-4234-eeb2-a9386411340d"
      },
      "execution_count": null,
      "outputs": [
        {
          "output_type": "stream",
          "name": "stdout",
          "text": [
            "YES!\n"
          ]
        }
      ]
    },
    {
      "cell_type": "markdown",
      "source": [
        "You Try!"
      ],
      "metadata": {
        "id": "HmSr_1HI1f_k"
      }
    },
    {
      "cell_type": "code",
      "source": [
        "print(10>9)\n",
        "\n",
        "a = 6\n",
        "b = 7\n",
        "print(a==b)\n",
        "print(a!=a)"
      ],
      "metadata": {
        "colab": {
          "base_uri": "https://localhost:8080/"
        },
        "id": "Cb71bTPr1hnE",
        "outputId": "e125225f-01c3-4d80-8d62-d1237a6b1486"
      },
      "execution_count": null,
      "outputs": [
        {
          "output_type": "stream",
          "name": "stdout",
          "text": [
            "True\n",
            "False\n",
            "False\n"
          ]
        }
      ]
    },
    {
      "cell_type": "markdown",
      "source": [
        "# Python Operators"
      ],
      "metadata": {
        "id": "6Wxon29y2DH-"
      }
    },
    {
      "cell_type": "code",
      "source": [
        "print(10 + 5) # Addtion\n",
        "print(10 - 5) # Subtraction\n",
        "print(10 * 5) # Multiplication\n",
        "print(10 / 5) # Division\n",
        "print(10 ** 5) # Exponential\n",
        "print(10 // 5) # Floor Division\n",
        "print(10 % 5) # Modulus"
      ],
      "metadata": {
        "colab": {
          "base_uri": "https://localhost:8080/"
        },
        "id": "C3P5ngtW2F0E",
        "outputId": "c72fb401-bbaf-4b88-b467-bf68184b602b"
      },
      "execution_count": null,
      "outputs": [
        {
          "output_type": "stream",
          "name": "stdout",
          "text": [
            "15\n",
            "5\n",
            "50\n",
            "2.0\n",
            "100000\n",
            "2\n",
            "0\n"
          ]
        }
      ]
    },
    {
      "cell_type": "markdown",
      "source": [
        "# Python Bitwise Operators"
      ],
      "metadata": {
        "id": "_JS5wyeY3XfN"
      }
    },
    {
      "cell_type": "code",
      "source": [
        "a = 60 #0011 1100\n",
        "b = 13 #0000 1101\n",
        "\n",
        "print(a & b) # Bitwise AND\n",
        "print(a | b) # Bitwise OR\n",
        "print(a ^ b) # Bitwise XOR\n",
        "print(~a) # Bitwise NOT\n",
        "print(a << 2) # Bitwise Left Shift\n",
        "print(a >> 2) # Bitwise Right Shift"
      ],
      "metadata": {
        "colab": {
          "base_uri": "https://localhost:8080/"
        },
        "id": "dS966zN13bXd",
        "outputId": "0e9d3751-70ba-4278-cbee-1b1b136700bc"
      },
      "execution_count": null,
      "outputs": [
        {
          "output_type": "stream",
          "name": "stdout",
          "text": [
            "12\n",
            "61\n",
            "49\n",
            "-61\n",
            "240\n",
            "15\n"
          ]
        }
      ]
    },
    {
      "cell_type": "markdown",
      "source": [
        "# Python Assignment Operators"
      ],
      "metadata": {
        "id": "5Pn5Lr6D-n5c"
      }
    },
    {
      "cell_type": "code",
      "source": [
        "x = float(10)\n",
        "\n",
        "x += 3\n",
        "print(x)\n",
        "\n",
        "x -= 3\n",
        "print(x)\n",
        "\n",
        "x *= 3\n",
        "print(x)\n",
        "\n",
        "x /= 3\n",
        "print(x)\n",
        "\n",
        "x %= 3\n",
        "print(x)\n",
        "\n",
        "x //= 3\n",
        "print(x)\n",
        "\n",
        "x **= 3\n",
        "print(x)\n",
        "\n"
      ],
      "metadata": {
        "colab": {
          "base_uri": "https://localhost:8080/"
        },
        "id": "JbJjWEPs-s5D",
        "outputId": "5a891f09-db62-4550-b8a3-c93b917f470a"
      },
      "execution_count": null,
      "outputs": [
        {
          "output_type": "stream",
          "name": "stdout",
          "text": [
            "13.0\n",
            "10.0\n",
            "30.0\n",
            "10.0\n",
            "1.0\n",
            "0.0\n",
            "0.0\n"
          ]
        }
      ]
    },
    {
      "cell_type": "markdown",
      "source": [
        "# Logical Operators"
      ],
      "metadata": {
        "id": "So2J8sVaCyjk"
      }
    },
    {
      "cell_type": "code",
      "source": [
        "a = 10 > 9\n",
        "b = 10 < 9\n",
        "\n",
        "print(a and b)\n",
        "print(a or b)\n",
        "print(not (a and b))\n",
        "print(not a)"
      ],
      "metadata": {
        "colab": {
          "base_uri": "https://localhost:8080/"
        },
        "id": "rdbbfgRuC1oj",
        "outputId": "867c3599-1a49-4156-925e-040a770d4df5"
      },
      "execution_count": null,
      "outputs": [
        {
          "output_type": "stream",
          "name": "stdout",
          "text": [
            "False\n",
            "True\n",
            "True\n",
            "False\n"
          ]
        }
      ]
    },
    {
      "cell_type": "markdown",
      "source": [
        "# Identity Operator"
      ],
      "metadata": {
        "id": "F-vVusO_GnBE"
      }
    },
    {
      "cell_type": "code",
      "source": [
        "x = 1\n",
        "y = 2\n",
        "z = 5\n",
        "print(x is y)\n",
        "print(x is not y)\n",
        "print(z is y)\n",
        "print(z is not y)"
      ],
      "metadata": {
        "colab": {
          "base_uri": "https://localhost:8080/"
        },
        "id": "TKX1nJw3Gq6K",
        "outputId": "d6061613-d771-4a2d-c73e-977a9f7713a2"
      },
      "execution_count": null,
      "outputs": [
        {
          "output_type": "stream",
          "name": "stdout",
          "text": [
            "False\n",
            "True\n",
            "False\n",
            "True\n"
          ]
        }
      ]
    },
    {
      "cell_type": "markdown",
      "source": [
        "# Conditional Statement in Python"
      ],
      "metadata": {
        "id": "iAGSoaAVHXj6"
      }
    },
    {
      "cell_type": "code",
      "source": [
        "i = 12\n",
        "j = 100\n",
        "\n",
        "if i > j:\n",
        "  print(\"I is greater than J\")\n",
        "else:\n",
        "  print(\"J is greater than I\")"
      ],
      "metadata": {
        "colab": {
          "base_uri": "https://localhost:8080/"
        },
        "id": "fxKqLSsFMHxb",
        "outputId": "67387ea0-6049-43ff-aa9d-d14039f57cde"
      },
      "execution_count": null,
      "outputs": [
        {
          "output_type": "stream",
          "name": "stdout",
          "text": [
            "J is greater than I\n"
          ]
        }
      ]
    },
    {
      "cell_type": "code",
      "source": [
        "# 1. If Statement\n",
        "\n",
        "i = input(\"Enter a number I: \")\n",
        "j = input(\"Enter a number J: \")\n",
        "\n",
        "print(\"\")\n",
        "\n",
        "if i > j:\n",
        "  print(\"I is greater than J\")\n",
        "else:\n",
        "  print(\"J is greater than I\")"
      ],
      "metadata": {
        "colab": {
          "base_uri": "https://localhost:8080/"
        },
        "id": "HAUUCG1SHb0a",
        "outputId": "0b1ec217-9baa-48cf-92fa-df17dd92ef9f"
      },
      "execution_count": null,
      "outputs": [
        {
          "output_type": "stream",
          "name": "stdout",
          "text": [
            "Enter a number I: 50\n",
            "Enter a number J: 11\n",
            "\n",
            "I is greater than J\n"
          ]
        }
      ]
    },
    {
      "cell_type": "markdown",
      "source": [
        "# Elif Statements"
      ],
      "metadata": {
        "id": "MECFWOucMJuB"
      }
    },
    {
      "cell_type": "code",
      "source": [
        "i = input(\"Enter a number I: \")\n",
        "j = input(\"Enter a number J: \")\n",
        "\n",
        "print(\"\")\n",
        "\n",
        "if i > j:\n",
        "  print(\"I is greater than J\")\n",
        "elif i == j:\n",
        "  print(\"I is equal to J\")"
      ],
      "metadata": {
        "colab": {
          "base_uri": "https://localhost:8080/"
        },
        "id": "ujcaRaLKMgTS",
        "outputId": "d24b8fec-86ac-4102-9115-502cf5879e29"
      },
      "execution_count": null,
      "outputs": [
        {
          "output_type": "stream",
          "name": "stdout",
          "text": [
            "Enter a number I: 15\n",
            "Enter a number J: 15\n",
            "\n",
            "I is equal to J\n"
          ]
        }
      ]
    },
    {
      "cell_type": "markdown",
      "source": [
        "#Else Statement"
      ],
      "metadata": {
        "id": "tgucgmTSM70M"
      }
    },
    {
      "cell_type": "code",
      "source": [
        "i = input(\"Enter a number I: \")\n",
        "j = input(\"Enter a number J: \")\n",
        "\n",
        "print(\"\")\n",
        "\n",
        "if i > j:\n",
        "  print(\"I is greater than J\")\n",
        "elif i < j:\n",
        "  print(\"I is less than J\")\n",
        "else:\n",
        "  print(\"I is equal to J\")"
      ],
      "metadata": {
        "colab": {
          "base_uri": "https://localhost:8080/"
        },
        "id": "Q20G3okKM-HK",
        "outputId": "8fdadf4f-3573-4477-e9eb-1c278d184ffa"
      },
      "execution_count": null,
      "outputs": [
        {
          "output_type": "stream",
          "name": "stdout",
          "text": [
            "Enter a number I: 10\n",
            "Enter a number J: 30\n",
            "\n",
            "I is less than J\n"
          ]
        }
      ]
    },
    {
      "cell_type": "markdown",
      "source": [
        "# Short  Hand If Statement"
      ],
      "metadata": {
        "id": "y572eorlNh0K"
      }
    },
    {
      "cell_type": "code",
      "source": [
        "i = 15\n",
        "j = 10\n",
        "\n",
        "if i < j: print(\"I is greater than J\")"
      ],
      "metadata": {
        "id": "2rjNcctwNlKy"
      },
      "execution_count": null,
      "outputs": []
    },
    {
      "cell_type": "markdown",
      "source": [
        "# Short Hand If Else Statement"
      ],
      "metadata": {
        "id": "ij_JUogdOIJs"
      }
    },
    {
      "cell_type": "code",
      "source": [
        "i = 2\n",
        "j = 330\n",
        "print(\"I\") if i > j else print(\"J\")"
      ],
      "metadata": {
        "colab": {
          "base_uri": "https://localhost:8080/"
        },
        "id": "xGYypA9POLZC",
        "outputId": "fe429149-81e2-4b06-e868-577a5301cdf4"
      },
      "execution_count": null,
      "outputs": [
        {
          "output_type": "stream",
          "name": "stdout",
          "text": [
            "J\n"
          ]
        }
      ]
    },
    {
      "cell_type": "markdown",
      "source": [
        "# And-both condition are true"
      ],
      "metadata": {
        "id": "eLTSFNTQOLtZ"
      }
    },
    {
      "cell_type": "code",
      "source": [
        "i = 200\n",
        "j = 33\n",
        "k = 500\n",
        "\n",
        "if i>j or i>k:\n",
        "  print(\"At least one of the conditions is True\")"
      ],
      "metadata": {
        "colab": {
          "base_uri": "https://localhost:8080/"
        },
        "id": "sXa0ZRvEOQVq",
        "outputId": "81cc751b-ac04-49fa-a227-7df75f2a0ad8"
      },
      "execution_count": 229,
      "outputs": [
        {
          "output_type": "stream",
          "name": "stdout",
          "text": [
            "At least one of the conditions is True\n"
          ]
        }
      ]
    },
    {
      "cell_type": "markdown",
      "source": [
        "# Nested If Else"
      ],
      "metadata": {
        "id": "9OVWUyQUPo9q"
      }
    },
    {
      "cell_type": "code",
      "source": [
        "x = float(input(\"Enter a number: \"))\n",
        "\n",
        "print(\"\")\n",
        "\n",
        "if x > 10:\n",
        "  print(\"Above 10 \")\n",
        "  if x > 20:\n",
        "    print(\"Also above 20 \")\n",
        "    if x > 30:\n",
        "      print(\"Also above 30 \")\n",
        "      if x > 40:\n",
        "        print(\"Also above 40 \")\n",
        "        if x < 50:\n",
        "          print(\"below 50 \")\n",
        "        else:\n",
        "          print(\"but above 50\")\n",
        "      else:\n",
        "        print(\"but below 40\")\n",
        "    else:\n",
        "      print(\"but below 30\")\n",
        "  else:\n",
        "    print(\"but below 20\")\n",
        "else:\n",
        "  print(\"but below 10\")\n"
      ],
      "metadata": {
        "colab": {
          "base_uri": "https://localhost:8080/"
        },
        "id": "bv9azof4ijNv",
        "outputId": "8396d2d4-43b1-417e-e84d-bb94f6b3c7da"
      },
      "execution_count": 237,
      "outputs": [
        {
          "output_type": "stream",
          "name": "stdout",
          "text": [
            "Enter a number: 21.5\n",
            "\n",
            "Above 10 \n",
            "Also above 20 \n",
            "but below 30\n"
          ]
        }
      ]
    },
    {
      "cell_type": "markdown",
      "source": [
        "# Example 1"
      ],
      "metadata": {
        "id": "LEodcCPIYQZR"
      }
    },
    {
      "cell_type": "code",
      "source": [
        "# Qualifying Age For Voting\n",
        "\n",
        "age = int(input(\"Input your age: \"))\n",
        "\n",
        "print(\"\")\n",
        "if age >= 18:\n",
        "  print(\"YOU ARE QUALIFIED TO VOTE\")\n",
        "else:\n",
        "  print(\"YOU ARE NOT QUALIFIED TO VOTE\")"
      ],
      "metadata": {
        "colab": {
          "base_uri": "https://localhost:8080/"
        },
        "id": "nk8Xru3kYTh6",
        "outputId": "86b503f4-a83a-4c3c-a1dc-ffc8043ce235"
      },
      "execution_count": 236,
      "outputs": [
        {
          "output_type": "stream",
          "name": "stdout",
          "text": [
            "Input your age: 19\n",
            "\n",
            "YOU ARE QUALIFIED TO VOTE\n"
          ]
        }
      ]
    },
    {
      "cell_type": "markdown",
      "source": [
        "# Example 2"
      ],
      "metadata": {
        "id": "XcYvvjzpZbVh"
      }
    },
    {
      "cell_type": "code",
      "source": [
        "# Determining the Number\n",
        "\n",
        "number = float(input(\"input a number: \"))\n",
        "\n",
        "print(\"\")\n",
        "if number > 0:\n",
        "  print(\"THE NUMBER IS POSITIVE\")\n",
        "elif number < 0:\n",
        "  print(\"THE NUMBER IS NEGATIVE\")\n",
        "else:\n",
        "  print(\"THE NUMBER IS ZERO\")"
      ],
      "metadata": {
        "colab": {
          "base_uri": "https://localhost:8080/"
        },
        "id": "yNpmRLohhFU_",
        "outputId": "30acd386-3076-48d2-9b66-c7ab8218a6d6"
      },
      "execution_count": 235,
      "outputs": [
        {
          "output_type": "stream",
          "name": "stdout",
          "text": [
            "input a number: 15\n",
            "\n",
            "THE NUMBER IS POSITIVE\n"
          ]
        }
      ]
    },
    {
      "cell_type": "markdown",
      "source": [
        "# Example 3"
      ],
      "metadata": {
        "id": "Xvs90dsBaYWo"
      }
    },
    {
      "cell_type": "code",
      "source": [
        "# Determining the grades\n",
        "\n",
        "grade = float(input(\"Input your grade: \"))\n",
        "\n",
        "print(\"\")\n",
        "\n",
        "if grade >= 75:\n",
        "    print(\"PASSED\")\n",
        "elif grade == 74:\n",
        "    print(\"REMEDIAL\")\n",
        "else:\n",
        "    print(\"FAILED\")"
      ],
      "metadata": {
        "colab": {
          "base_uri": "https://localhost:8080/"
        },
        "id": "Zsw3DZljhCW_",
        "outputId": "28ee13ec-d74f-4c69-ca49-fa66b3489822"
      },
      "execution_count": 240,
      "outputs": [
        {
          "output_type": "stream",
          "name": "stdout",
          "text": [
            "Input your grade: 95\n",
            "\n",
            "PASSED\n"
          ]
        }
      ]
    }
  ]
}