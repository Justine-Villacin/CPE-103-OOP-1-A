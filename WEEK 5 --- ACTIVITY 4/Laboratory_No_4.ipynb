{
  "nbformat": 4,
  "nbformat_minor": 0,
  "metadata": {
    "colab": {
      "provenance": [],
      "collapsed_sections": [
        "8j18SFTzFBSX",
        "pzMJtOSSGXFm",
        "ByfyKRqbM1wt",
        "42K_knwrTgSk",
        "d4KZZoqfV3AU",
        "AnDGb3a9WU81",
        "u6Nx2i1gaeoM",
        "UhufDPBBdv4L",
        "c3EEZFc-hDzc",
        "4j9ZevrXlUrs",
        "i9fe6eTeHRvO"
      ],
      "authorship_tag": "ABX9TyMLDYYT9lzDUQ8c67KS2qG4",
      "include_colab_link": true
    },
    "kernelspec": {
      "name": "python3",
      "display_name": "Python 3"
    },
    "language_info": {
      "name": "python"
    }
  },
  "cells": [
    {
      "cell_type": "markdown",
      "metadata": {
        "id": "view-in-github",
        "colab_type": "text"
      },
      "source": [
        "<a href=\"https://colab.research.google.com/github/Justine-Villacin/CPE-103-OOP-1-A/blob/main/Laboratory_No_4.ipynb\" target=\"_parent\"><img src=\"https://colab.research.google.com/assets/colab-badge.svg\" alt=\"Open In Colab\"/></a>"
      ]
    },
    {
      "cell_type": "markdown",
      "source": [
        "# List"
      ],
      "metadata": {
        "id": "8j18SFTzFBSX"
      }
    },
    {
      "cell_type": "code",
      "execution_count": null,
      "metadata": {
        "colab": {
          "base_uri": "https://localhost:8080/"
        },
        "id": "YoQ7zxodDrI2",
        "outputId": "dab5a603-ca56-40e8-c73c-032657cbe3d7"
      },
      "outputs": [
        {
          "output_type": "stream",
          "name": "stdout",
          "text": [
            "5\n",
            "5\n",
            "4\n",
            "2\n",
            "1\n",
            "3\n",
            "3\n",
            "1\n",
            "2\n",
            "4\n",
            "5\n"
          ]
        }
      ],
      "source": [
        "# Number 1\n",
        "numberlist = [5, 4, 2, 1, 3]\n",
        "\n",
        "# Number 2\n",
        "print(len(numberlist))\n",
        "print(numberlist[0])\n",
        "print(numberlist[1])\n",
        "print(numberlist[2])\n",
        "print(numberlist[3])\n",
        "print(numberlist[4])\n",
        "print(numberlist[-1])\n",
        "print(numberlist[-2])\n",
        "print(numberlist[-3])\n",
        "print(numberlist[-4])\n",
        "print(numberlist[-5])"
      ]
    },
    {
      "cell_type": "markdown",
      "source": [
        "# Number 3\n",
        "\n",
        "> After printing all the values, I observed that the numberlist[5] and numberlist [-6] had an error because the list index has only a maximum of 4. That is why there is no output for index 5, and also for the numberlist [-6], it only accommodates a maximum of -5 because when the index has a negative sign, the value will reverse.\n",
        "\n"
      ],
      "metadata": {
        "id": "pzMJtOSSGXFm"
      }
    },
    {
      "cell_type": "code",
      "source": [
        "# Number 4\n",
        "itemlist = [1, -2.0, [1,2,3], \"Word\"]\n",
        "\n",
        "# Number 5\n",
        "print(len(itemlist))\n",
        "print(itemlist[0])\n",
        "print(itemlist[1])\n",
        "print(itemlist[2])\n",
        "print(itemlist[3])\n",
        "print(\"\")\n",
        "print(len(itemlist[2]))\n",
        "print(itemlist[2][0])\n",
        "print(itemlist[2][1])\n",
        "print(itemlist[2][2])\n",
        "print(itemlist[-1])\n",
        "print(itemlist[-2])\n",
        "print(itemlist[-3])\n",
        "print(itemlist[-4])\n",
        "print(\"\")\n",
        "print(len(itemlist[-2]))\n",
        "print(itemlist[-2][0])\n",
        "print(itemlist[-2][1])\n",
        "print(itemlist[-2][2])\n",
        "print(itemlist[-2][-3])\n",
        "print(itemlist[-2][-2])\n",
        "print(itemlist[-2][-1])\n"
      ],
      "metadata": {
        "colab": {
          "base_uri": "https://localhost:8080/"
        },
        "id": "qByyJUw3GCmn",
        "outputId": "a8f13e69-6d54-4e87-dc9b-81a6841a0f2f"
      },
      "execution_count": null,
      "outputs": [
        {
          "output_type": "stream",
          "name": "stdout",
          "text": [
            "4\n",
            "1\n",
            "-2.0\n",
            "[1, 2, 3]\n",
            "Word\n",
            "\n",
            "3\n",
            "1\n",
            "2\n",
            "3\n",
            "Word\n",
            "[1, 2, 3]\n",
            "-2.0\n",
            "1\n",
            "\n",
            "3\n",
            "1\n",
            "2\n",
            "3\n",
            "1\n",
            "2\n",
            "3\n"
          ]
        }
      ]
    },
    {
      "cell_type": "markdown",
      "source": [
        "# Number 6\n",
        "\n",
        "> After printing all the values, I observed that you need to declare the index in every list so we know the exact data value in every index. The len() counts how many data are in every list.\n"
      ],
      "metadata": {
        "id": "zpLywboZK4m2"
      }
    },
    {
      "cell_type": "markdown",
      "source": [
        "# Index Slicing"
      ],
      "metadata": {
        "id": "ByfyKRqbM1wt"
      }
    },
    {
      "cell_type": "code",
      "source": [
        "# Number 1\n",
        "\n",
        "longlist = numberlist + itemlist\n",
        "\n",
        "# Number 2\n",
        "print(len(longlist))\n",
        "print(longlist [:])\n",
        "print(longlist[:9])\n",
        "print(longlist[0:])\n",
        "print(longlist[1:])\n",
        "print(longlist[2:])\n",
        "\n",
        "print(\"\")\n",
        "# Index Slicing with Range\n",
        "print(longlist[2:5])\n",
        "print(longlist[5:2])\n",
        "print(longlist[8:])\n",
        "print(longlist[9:])\n",
        "\n",
        "print(\"\")\n",
        "# Index Slicing using Negative Indices\n",
        "print(longlist[-9:])\n",
        "print(longlist[-8])\n",
        "print(longlist[-8:-7])\n",
        "print(longlist[-1])\n",
        "\n",
        "print(\"\")\n",
        "#Other properties of Index Slicing\n",
        "print(longlist[10:20])\n",
        "print(longlist[-7:5])\n",
        "\n",
        "print(\"\")\n",
        "#Index Slicing with Step parameter\n",
        "print(longlist[::1])\n",
        "print(longlist[::2])\n",
        "print(longlist[1:8:2])\n",
        "print(longlist[9:1:-1])\n",
        "print(longlist[-1::1])\n",
        "print(longlist[-1::-1])"
      ],
      "metadata": {
        "colab": {
          "base_uri": "https://localhost:8080/"
        },
        "id": "0mdiOmXnM0fo",
        "outputId": "64de516c-57cb-41be-d4dc-d4e36a21ecba"
      },
      "execution_count": null,
      "outputs": [
        {
          "output_type": "stream",
          "name": "stdout",
          "text": [
            "9\n",
            "[5, 4, 2, 1, 3, 1, -2.0, [1, 2, 3], 'Word']\n",
            "[5, 4, 2, 1, 3, 1, -2.0, [1, 2, 3], 'Word']\n",
            "[5, 4, 2, 1, 3, 1, -2.0, [1, 2, 3], 'Word']\n",
            "[4, 2, 1, 3, 1, -2.0, [1, 2, 3], 'Word']\n",
            "[2, 1, 3, 1, -2.0, [1, 2, 3], 'Word']\n",
            "\n",
            "[2, 1, 3]\n",
            "[]\n",
            "['Word']\n",
            "[]\n",
            "\n",
            "[5, 4, 2, 1, 3, 1, -2.0, [1, 2, 3], 'Word']\n",
            "4\n",
            "[4]\n",
            "Word\n",
            "\n",
            "[]\n",
            "[2, 1, 3]\n",
            "\n",
            "[5, 4, 2, 1, 3, 1, -2.0, [1, 2, 3], 'Word']\n",
            "[5, 2, 3, -2.0, 'Word']\n",
            "[4, 1, 1, [1, 2, 3]]\n",
            "['Word', [1, 2, 3], -2.0, 1, 3, 1, 2]\n",
            "['Word']\n",
            "['Word', [1, 2, 3], -2.0, 1, 3, 1, 2, 4, 5]\n"
          ]
        }
      ]
    },
    {
      "cell_type": "markdown",
      "source": [
        "# Number 3\n",
        "\n",
        "> My observation about index slicing is that it limits the value of the index by assigning the start, end, and range.\n",
        "\n"
      ],
      "metadata": {
        "id": "_wzCyD8xPmB1"
      }
    },
    {
      "cell_type": "markdown",
      "source": [
        "# List Methods and the Mutable Property of Lists"
      ],
      "metadata": {
        "id": "42K_knwrTgSk"
      }
    },
    {
      "cell_type": "code",
      "source": [
        "numberlist2 = numberlist # Number 1\n",
        "print(numberlist) # Number 2\n",
        "print(numberlist2) # Number 3\n",
        "numberlist[0] = 6 # Number 4\n",
        "print(numberlist) # Number 5\n",
        "print(numberlist2) # Number 6\n"
      ],
      "metadata": {
        "colab": {
          "base_uri": "https://localhost:8080/"
        },
        "id": "4iE4z9hITlNl",
        "outputId": "ef5d21c5-9508-430b-b8a3-ca7e016d1ad9"
      },
      "execution_count": null,
      "outputs": [
        {
          "output_type": "stream",
          "name": "stdout",
          "text": [
            "[5, 4, 2, 1, 3]\n",
            "[5, 4, 2, 1, 3]\n",
            "[6, 4, 2, 1, 3]\n",
            "[6, 4, 2, 1, 3]\n"
          ]
        }
      ]
    },
    {
      "cell_type": "markdown",
      "source": [
        "# Number 7\n",
        "\n",
        "> Add blockquote\n",
        "\n"
      ],
      "metadata": {
        "id": "d4KZZoqfV3AU"
      }
    },
    {
      "cell_type": "code",
      "source": [
        "numberlist2 = numberlist.copy # Number 8\n",
        "print(numberlist2) # Number 9\n",
        "numberlist[0] = 5 # Number 10\n",
        "print(numberlist) # Number 11\n",
        "print(numberlist2) # Number 12\n"
      ],
      "metadata": {
        "colab": {
          "base_uri": "https://localhost:8080/"
        },
        "id": "ukGCJJToUduO",
        "outputId": "0bdb9404-7b1a-435f-84ac-80629a1b5959"
      },
      "execution_count": null,
      "outputs": [
        {
          "output_type": "stream",
          "name": "stdout",
          "text": [
            "<built-in method copy of list object at 0x7c98ce4bab00>\n",
            "[5, 4, 2, 1, 3]\n",
            "<built-in method copy of list object at 0x7c98ce4bab00>\n"
          ]
        }
      ]
    },
    {
      "cell_type": "markdown",
      "source": [
        "# Number 13\n",
        "\n",
        "> Add blockquote\n",
        "\n"
      ],
      "metadata": {
        "id": "Q-oJ-fNKWEj0"
      }
    },
    {
      "cell_type": "markdown",
      "source": [
        "#Exploring some List Functions and Methods"
      ],
      "metadata": {
        "id": "AnDGb3a9WU81"
      }
    },
    {
      "cell_type": "code",
      "source": [
        "# Number 1 - 12\n",
        "print(numberlist)\n",
        "numberlist.append(6)\n",
        "print(numberlist)\n",
        "numberlist.pop()\n",
        "print(numberlist)\n",
        "numberlist.sort()\n",
        "print(numberlist)\n",
        "print(min(numberlist) and max(numberlist))\n",
        "print(longlist)\n",
        "print(longlist.count(1))\n",
        "print(longlist[7].count(1))"
      ],
      "metadata": {
        "colab": {
          "base_uri": "https://localhost:8080/"
        },
        "id": "URTC_mlHWbTc",
        "outputId": "cdf6e7ac-dd6b-41e2-f3e0-d4fc8aba602a"
      },
      "execution_count": null,
      "outputs": [
        {
          "output_type": "stream",
          "name": "stdout",
          "text": [
            "[5, 4, 2, 1, 3]\n",
            "[5, 4, 2, 1, 3, 6]\n",
            "[5, 4, 2, 1, 3]\n",
            "[1, 2, 3, 4, 5]\n",
            "5\n",
            "[5, 4, 2, 1, 3, 1, -2.0, [1, 2, 3], 'Word']\n",
            "2\n",
            "1\n"
          ]
        }
      ]
    },
    {
      "cell_type": "markdown",
      "source": [
        "# The in operator"
      ],
      "metadata": {
        "id": "9tyy-ZHQXd0U"
      }
    },
    {
      "cell_type": "code",
      "source": [
        "# Number 1 -3\n",
        "print(3 in longlist)\n",
        "print(15 in longlist)\n",
        "\n",
        "num = int(input(\"\\nEnter a number: \"))\n",
        "if num in longlist:\n",
        "  print(f\"The number is in longlist\")\n",
        "else:\n",
        "  print(f\"The number is not in longlist\")\n"
      ],
      "metadata": {
        "colab": {
          "base_uri": "https://localhost:8080/"
        },
        "id": "gpF91qMxXuCc",
        "outputId": "2589fb3f-bdbc-4732-9602-796274c49133"
      },
      "execution_count": null,
      "outputs": [
        {
          "output_type": "stream",
          "name": "stdout",
          "text": [
            "True\n",
            "False\n",
            "\n",
            "Enter a number: 15\n",
            "The number is not in longlist\n"
          ]
        }
      ]
    },
    {
      "cell_type": "markdown",
      "source": [
        "# Number 4\n",
        "\n",
        ">My observation about IN OPERATOR is the \"In\" will find the value given from the list of data inside the bracket, and if the value that we are looking for is inside the bracket, the output will be TRUE, and if not, the output will be FALSE.\n",
        "\n",
        "\n"
      ],
      "metadata": {
        "id": "8hUcSuZ1Ycu8"
      }
    },
    {
      "cell_type": "markdown",
      "source": [
        "# Using a list in an iterative statement"
      ],
      "metadata": {
        "id": "u6Nx2i1gaeoM"
      }
    },
    {
      "cell_type": "code",
      "source": [
        "# Number 1 and 2\n",
        "for item in longlist:\n",
        "  print(item)\n",
        "\n",
        "i = 0\n",
        "while i < len(longlist):\n",
        "  print(longlist)\n",
        "  i += 1"
      ],
      "metadata": {
        "colab": {
          "base_uri": "https://localhost:8080/"
        },
        "id": "ugnMRhZMa8l0",
        "outputId": "1fc1277d-ab0a-4b87-a7d4-f2d368305ef2"
      },
      "execution_count": null,
      "outputs": [
        {
          "output_type": "stream",
          "name": "stdout",
          "text": [
            "5\n",
            "4\n",
            "2\n",
            "1\n",
            "3\n",
            "1\n",
            "-2.0\n",
            "[1, 2, 3]\n",
            "Word\n",
            "[5, 4, 2, 1, 3, 1, -2.0, [1, 2, 3], 'Word']\n",
            "[5, 4, 2, 1, 3, 1, -2.0, [1, 2, 3], 'Word']\n",
            "[5, 4, 2, 1, 3, 1, -2.0, [1, 2, 3], 'Word']\n",
            "[5, 4, 2, 1, 3, 1, -2.0, [1, 2, 3], 'Word']\n",
            "[5, 4, 2, 1, 3, 1, -2.0, [1, 2, 3], 'Word']\n",
            "[5, 4, 2, 1, 3, 1, -2.0, [1, 2, 3], 'Word']\n",
            "[5, 4, 2, 1, 3, 1, -2.0, [1, 2, 3], 'Word']\n",
            "[5, 4, 2, 1, 3, 1, -2.0, [1, 2, 3], 'Word']\n",
            "[5, 4, 2, 1, 3, 1, -2.0, [1, 2, 3], 'Word']\n"
          ]
        }
      ]
    },
    {
      "cell_type": "markdown",
      "source": [
        "# Strings"
      ],
      "metadata": {
        "id": "UhufDPBBdv4L"
      }
    },
    {
      "cell_type": "code",
      "source": [
        "# Number 1 - 7\n",
        "\n",
        "message = \"HELLO WORLD\"\n",
        "print(message)\n",
        "print(len(message))\n",
        "\n",
        "print(message[0], message[1], message[2], message[3], message[4])\n",
        "print(message[-11], message[-10], message[-9], message[-8], message[-7])\n",
        "\n",
        "print(message[0], message[4], message[9], message[10])\n",
        "\n",
        "print(message [0:5])\n",
        "print(message [6:11])"
      ],
      "metadata": {
        "colab": {
          "base_uri": "https://localhost:8080/"
        },
        "id": "M_VMeL_jdxmc",
        "outputId": "ef9fc39a-0a37-42e2-ee1d-48ae538d7236"
      },
      "execution_count": null,
      "outputs": [
        {
          "output_type": "stream",
          "name": "stdout",
          "text": [
            "HELLO WORLD\n",
            "11\n",
            "H E L L O\n",
            "H E L L O\n",
            "H O L D\n",
            "HELLO\n",
            "WORLD\n"
          ]
        }
      ]
    },
    {
      "cell_type": "markdown",
      "source": [
        "# String Methods"
      ],
      "metadata": {
        "id": "c3EEZFc-hDzc"
      }
    },
    {
      "cell_type": "code",
      "source": [
        "# Number 1 - 9\n",
        "\n",
        "print(message.upper())\n",
        "print(message.lower())\n",
        "print(message.title())\n",
        "print(\"Value 1 is {}, and value 2 is {}\".format(-1, True))\n",
        "print(message.split())\n",
        "print(message.count('I'))\n",
        "print(message.replace(\"World\", \"CPE009\"))\n",
        "message.replace(\"World\", \"CPE009\") == message\n",
        "help(\"\")\n"
      ],
      "metadata": {
        "colab": {
          "base_uri": "https://localhost:8080/"
        },
        "id": "mSHVPMUShF-0",
        "outputId": "279a86dd-34f2-4ce2-cd09-24b8440e8dd0"
      },
      "execution_count": null,
      "outputs": [
        {
          "output_type": "stream",
          "name": "stdout",
          "text": [
            "HELLO WORLD\n",
            "hello world\n",
            "Hello World\n",
            "Value 1 is -1, and value 2 is True\n",
            "['HELLO', 'WORLD']\n",
            "0\n",
            "HELLO WORLD\n",
            "Help on class str in module builtins:\n",
            "\n",
            "class str(object)\n",
            " |  str(object='') -> str\n",
            " |  str(bytes_or_buffer[, encoding[, errors]]) -> str\n",
            " |  \n",
            " |  Create a new string object from the given object. If encoding or\n",
            " |  errors is specified, then the object must expose a data buffer\n",
            " |  that will be decoded using the given encoding and error handler.\n",
            " |  Otherwise, returns the result of object.__str__() (if defined)\n",
            " |  or repr(object).\n",
            " |  encoding defaults to sys.getdefaultencoding().\n",
            " |  errors defaults to 'strict'.\n",
            " |  \n",
            " |  Methods defined here:\n",
            " |  \n",
            " |  __add__(self, value, /)\n",
            " |      Return self+value.\n",
            " |  \n",
            " |  __contains__(self, key, /)\n",
            " |      Return key in self.\n",
            " |  \n",
            " |  __eq__(self, value, /)\n",
            " |      Return self==value.\n",
            " |  \n",
            " |  __format__(self, format_spec, /)\n",
            " |      Return a formatted version of the string as described by format_spec.\n",
            " |  \n",
            " |  __ge__(self, value, /)\n",
            " |      Return self>=value.\n",
            " |  \n",
            " |  __getattribute__(self, name, /)\n",
            " |      Return getattr(self, name).\n",
            " |  \n",
            " |  __getitem__(self, key, /)\n",
            " |      Return self[key].\n",
            " |  \n",
            " |  __getnewargs__(...)\n",
            " |  \n",
            " |  __gt__(self, value, /)\n",
            " |      Return self>value.\n",
            " |  \n",
            " |  __hash__(self, /)\n",
            " |      Return hash(self).\n",
            " |  \n",
            " |  __iter__(self, /)\n",
            " |      Implement iter(self).\n",
            " |  \n",
            " |  __le__(self, value, /)\n",
            " |      Return self<=value.\n",
            " |  \n",
            " |  __len__(self, /)\n",
            " |      Return len(self).\n",
            " |  \n",
            " |  __lt__(self, value, /)\n",
            " |      Return self<value.\n",
            " |  \n",
            " |  __mod__(self, value, /)\n",
            " |      Return self%value.\n",
            " |  \n",
            " |  __mul__(self, value, /)\n",
            " |      Return self*value.\n",
            " |  \n",
            " |  __ne__(self, value, /)\n",
            " |      Return self!=value.\n",
            " |  \n",
            " |  __repr__(self, /)\n",
            " |      Return repr(self).\n",
            " |  \n",
            " |  __rmod__(self, value, /)\n",
            " |      Return value%self.\n",
            " |  \n",
            " |  __rmul__(self, value, /)\n",
            " |      Return value*self.\n",
            " |  \n",
            " |  __sizeof__(self, /)\n",
            " |      Return the size of the string in memory, in bytes.\n",
            " |  \n",
            " |  __str__(self, /)\n",
            " |      Return str(self).\n",
            " |  \n",
            " |  capitalize(self, /)\n",
            " |      Return a capitalized version of the string.\n",
            " |      \n",
            " |      More specifically, make the first character have upper case and the rest lower\n",
            " |      case.\n",
            " |  \n",
            " |  casefold(self, /)\n",
            " |      Return a version of the string suitable for caseless comparisons.\n",
            " |  \n",
            " |  center(self, width, fillchar=' ', /)\n",
            " |      Return a centered string of length width.\n",
            " |      \n",
            " |      Padding is done using the specified fill character (default is a space).\n",
            " |  \n",
            " |  count(...)\n",
            " |      S.count(sub[, start[, end]]) -> int\n",
            " |      \n",
            " |      Return the number of non-overlapping occurrences of substring sub in\n",
            " |      string S[start:end].  Optional arguments start and end are\n",
            " |      interpreted as in slice notation.\n",
            " |  \n",
            " |  encode(self, /, encoding='utf-8', errors='strict')\n",
            " |      Encode the string using the codec registered for encoding.\n",
            " |      \n",
            " |      encoding\n",
            " |        The encoding in which to encode the string.\n",
            " |      errors\n",
            " |        The error handling scheme to use for encoding errors.\n",
            " |        The default is 'strict' meaning that encoding errors raise a\n",
            " |        UnicodeEncodeError.  Other possible values are 'ignore', 'replace' and\n",
            " |        'xmlcharrefreplace' as well as any other name registered with\n",
            " |        codecs.register_error that can handle UnicodeEncodeErrors.\n",
            " |  \n",
            " |  endswith(...)\n",
            " |      S.endswith(suffix[, start[, end]]) -> bool\n",
            " |      \n",
            " |      Return True if S ends with the specified suffix, False otherwise.\n",
            " |      With optional start, test S beginning at that position.\n",
            " |      With optional end, stop comparing S at that position.\n",
            " |      suffix can also be a tuple of strings to try.\n",
            " |  \n",
            " |  expandtabs(self, /, tabsize=8)\n",
            " |      Return a copy where all tab characters are expanded using spaces.\n",
            " |      \n",
            " |      If tabsize is not given, a tab size of 8 characters is assumed.\n",
            " |  \n",
            " |  find(...)\n",
            " |      S.find(sub[, start[, end]]) -> int\n",
            " |      \n",
            " |      Return the lowest index in S where substring sub is found,\n",
            " |      such that sub is contained within S[start:end].  Optional\n",
            " |      arguments start and end are interpreted as in slice notation.\n",
            " |      \n",
            " |      Return -1 on failure.\n",
            " |  \n",
            " |  format(...)\n",
            " |      S.format(*args, **kwargs) -> str\n",
            " |      \n",
            " |      Return a formatted version of S, using substitutions from args and kwargs.\n",
            " |      The substitutions are identified by braces ('{' and '}').\n",
            " |  \n",
            " |  format_map(...)\n",
            " |      S.format_map(mapping) -> str\n",
            " |      \n",
            " |      Return a formatted version of S, using substitutions from mapping.\n",
            " |      The substitutions are identified by braces ('{' and '}').\n",
            " |  \n",
            " |  index(...)\n",
            " |      S.index(sub[, start[, end]]) -> int\n",
            " |      \n",
            " |      Return the lowest index in S where substring sub is found,\n",
            " |      such that sub is contained within S[start:end].  Optional\n",
            " |      arguments start and end are interpreted as in slice notation.\n",
            " |      \n",
            " |      Raises ValueError when the substring is not found.\n",
            " |  \n",
            " |  isalnum(self, /)\n",
            " |      Return True if the string is an alpha-numeric string, False otherwise.\n",
            " |      \n",
            " |      A string is alpha-numeric if all characters in the string are alpha-numeric and\n",
            " |      there is at least one character in the string.\n",
            " |  \n",
            " |  isalpha(self, /)\n",
            " |      Return True if the string is an alphabetic string, False otherwise.\n",
            " |      \n",
            " |      A string is alphabetic if all characters in the string are alphabetic and there\n",
            " |      is at least one character in the string.\n",
            " |  \n",
            " |  isascii(self, /)\n",
            " |      Return True if all characters in the string are ASCII, False otherwise.\n",
            " |      \n",
            " |      ASCII characters have code points in the range U+0000-U+007F.\n",
            " |      Empty string is ASCII too.\n",
            " |  \n",
            " |  isdecimal(self, /)\n",
            " |      Return True if the string is a decimal string, False otherwise.\n",
            " |      \n",
            " |      A string is a decimal string if all characters in the string are decimal and\n",
            " |      there is at least one character in the string.\n",
            " |  \n",
            " |  isdigit(self, /)\n",
            " |      Return True if the string is a digit string, False otherwise.\n",
            " |      \n",
            " |      A string is a digit string if all characters in the string are digits and there\n",
            " |      is at least one character in the string.\n",
            " |  \n",
            " |  isidentifier(self, /)\n",
            " |      Return True if the string is a valid Python identifier, False otherwise.\n",
            " |      \n",
            " |      Call keyword.iskeyword(s) to test whether string s is a reserved identifier,\n",
            " |      such as \"def\" or \"class\".\n",
            " |  \n",
            " |  islower(self, /)\n",
            " |      Return True if the string is a lowercase string, False otherwise.\n",
            " |      \n",
            " |      A string is lowercase if all cased characters in the string are lowercase and\n",
            " |      there is at least one cased character in the string.\n",
            " |  \n",
            " |  isnumeric(self, /)\n",
            " |      Return True if the string is a numeric string, False otherwise.\n",
            " |      \n",
            " |      A string is numeric if all characters in the string are numeric and there is at\n",
            " |      least one character in the string.\n",
            " |  \n",
            " |  isprintable(self, /)\n",
            " |      Return True if the string is printable, False otherwise.\n",
            " |      \n",
            " |      A string is printable if all of its characters are considered printable in\n",
            " |      repr() or if it is empty.\n",
            " |  \n",
            " |  isspace(self, /)\n",
            " |      Return True if the string is a whitespace string, False otherwise.\n",
            " |      \n",
            " |      A string is whitespace if all characters in the string are whitespace and there\n",
            " |      is at least one character in the string.\n",
            " |  \n",
            " |  istitle(self, /)\n",
            " |      Return True if the string is a title-cased string, False otherwise.\n",
            " |      \n",
            " |      In a title-cased string, upper- and title-case characters may only\n",
            " |      follow uncased characters and lowercase characters only cased ones.\n",
            " |  \n",
            " |  isupper(self, /)\n",
            " |      Return True if the string is an uppercase string, False otherwise.\n",
            " |      \n",
            " |      A string is uppercase if all cased characters in the string are uppercase and\n",
            " |      there is at least one cased character in the string.\n",
            " |  \n",
            " |  join(self, iterable, /)\n",
            " |      Concatenate any number of strings.\n",
            " |      \n",
            " |      The string whose method is called is inserted in between each given string.\n",
            " |      The result is returned as a new string.\n",
            " |      \n",
            " |      Example: '.'.join(['ab', 'pq', 'rs']) -> 'ab.pq.rs'\n",
            " |  \n",
            " |  ljust(self, width, fillchar=' ', /)\n",
            " |      Return a left-justified string of length width.\n",
            " |      \n",
            " |      Padding is done using the specified fill character (default is a space).\n",
            " |  \n",
            " |  lower(self, /)\n",
            " |      Return a copy of the string converted to lowercase.\n",
            " |  \n",
            " |  lstrip(self, chars=None, /)\n",
            " |      Return a copy of the string with leading whitespace removed.\n",
            " |      \n",
            " |      If chars is given and not None, remove characters in chars instead.\n",
            " |  \n",
            " |  partition(self, sep, /)\n",
            " |      Partition the string into three parts using the given separator.\n",
            " |      \n",
            " |      This will search for the separator in the string.  If the separator is found,\n",
            " |      returns a 3-tuple containing the part before the separator, the separator\n",
            " |      itself, and the part after it.\n",
            " |      \n",
            " |      If the separator is not found, returns a 3-tuple containing the original string\n",
            " |      and two empty strings.\n",
            " |  \n",
            " |  removeprefix(self, prefix, /)\n",
            " |      Return a str with the given prefix string removed if present.\n",
            " |      \n",
            " |      If the string starts with the prefix string, return string[len(prefix):].\n",
            " |      Otherwise, return a copy of the original string.\n",
            " |  \n",
            " |  removesuffix(self, suffix, /)\n",
            " |      Return a str with the given suffix string removed if present.\n",
            " |      \n",
            " |      If the string ends with the suffix string and that suffix is not empty,\n",
            " |      return string[:-len(suffix)]. Otherwise, return a copy of the original\n",
            " |      string.\n",
            " |  \n",
            " |  replace(self, old, new, count=-1, /)\n",
            " |      Return a copy with all occurrences of substring old replaced by new.\n",
            " |      \n",
            " |        count\n",
            " |          Maximum number of occurrences to replace.\n",
            " |          -1 (the default value) means replace all occurrences.\n",
            " |      \n",
            " |      If the optional argument count is given, only the first count occurrences are\n",
            " |      replaced.\n",
            " |  \n",
            " |  rfind(...)\n",
            " |      S.rfind(sub[, start[, end]]) -> int\n",
            " |      \n",
            " |      Return the highest index in S where substring sub is found,\n",
            " |      such that sub is contained within S[start:end].  Optional\n",
            " |      arguments start and end are interpreted as in slice notation.\n",
            " |      \n",
            " |      Return -1 on failure.\n",
            " |  \n",
            " |  rindex(...)\n",
            " |      S.rindex(sub[, start[, end]]) -> int\n",
            " |      \n",
            " |      Return the highest index in S where substring sub is found,\n",
            " |      such that sub is contained within S[start:end].  Optional\n",
            " |      arguments start and end are interpreted as in slice notation.\n",
            " |      \n",
            " |      Raises ValueError when the substring is not found.\n",
            " |  \n",
            " |  rjust(self, width, fillchar=' ', /)\n",
            " |      Return a right-justified string of length width.\n",
            " |      \n",
            " |      Padding is done using the specified fill character (default is a space).\n",
            " |  \n",
            " |  rpartition(self, sep, /)\n",
            " |      Partition the string into three parts using the given separator.\n",
            " |      \n",
            " |      This will search for the separator in the string, starting at the end. If\n",
            " |      the separator is found, returns a 3-tuple containing the part before the\n",
            " |      separator, the separator itself, and the part after it.\n",
            " |      \n",
            " |      If the separator is not found, returns a 3-tuple containing two empty strings\n",
            " |      and the original string.\n",
            " |  \n",
            " |  rsplit(self, /, sep=None, maxsplit=-1)\n",
            " |      Return a list of the substrings in the string, using sep as the separator string.\n",
            " |      \n",
            " |        sep\n",
            " |          The separator used to split the string.\n",
            " |      \n",
            " |          When set to None (the default value), will split on any whitespace\n",
            " |          character (including \\n \\r \\t \\f and spaces) and will discard\n",
            " |          empty strings from the result.\n",
            " |        maxsplit\n",
            " |          Maximum number of splits.\n",
            " |          -1 (the default value) means no limit.\n",
            " |      \n",
            " |      Splitting starts at the end of the string and works to the front.\n",
            " |  \n",
            " |  rstrip(self, chars=None, /)\n",
            " |      Return a copy of the string with trailing whitespace removed.\n",
            " |      \n",
            " |      If chars is given and not None, remove characters in chars instead.\n",
            " |  \n",
            " |  split(self, /, sep=None, maxsplit=-1)\n",
            " |      Return a list of the substrings in the string, using sep as the separator string.\n",
            " |      \n",
            " |        sep\n",
            " |          The separator used to split the string.\n",
            " |      \n",
            " |          When set to None (the default value), will split on any whitespace\n",
            " |          character (including \\n \\r \\t \\f and spaces) and will discard\n",
            " |          empty strings from the result.\n",
            " |        maxsplit\n",
            " |          Maximum number of splits.\n",
            " |          -1 (the default value) means no limit.\n",
            " |      \n",
            " |      Splitting starts at the front of the string and works to the end.\n",
            " |      \n",
            " |      Note, str.split() is mainly useful for data that has been intentionally\n",
            " |      delimited.  With natural text that includes punctuation, consider using\n",
            " |      the regular expression module.\n",
            " |  \n",
            " |  splitlines(self, /, keepends=False)\n",
            " |      Return a list of the lines in the string, breaking at line boundaries.\n",
            " |      \n",
            " |      Line breaks are not included in the resulting list unless keepends is given and\n",
            " |      true.\n",
            " |  \n",
            " |  startswith(...)\n",
            " |      S.startswith(prefix[, start[, end]]) -> bool\n",
            " |      \n",
            " |      Return True if S starts with the specified prefix, False otherwise.\n",
            " |      With optional start, test S beginning at that position.\n",
            " |      With optional end, stop comparing S at that position.\n",
            " |      prefix can also be a tuple of strings to try.\n",
            " |  \n",
            " |  strip(self, chars=None, /)\n",
            " |      Return a copy of the string with leading and trailing whitespace removed.\n",
            " |      \n",
            " |      If chars is given and not None, remove characters in chars instead.\n",
            " |  \n",
            " |  swapcase(self, /)\n",
            " |      Convert uppercase characters to lowercase and lowercase characters to uppercase.\n",
            " |  \n",
            " |  title(self, /)\n",
            " |      Return a version of the string where each word is titlecased.\n",
            " |      \n",
            " |      More specifically, words start with uppercased characters and all remaining\n",
            " |      cased characters have lower case.\n",
            " |  \n",
            " |  translate(self, table, /)\n",
            " |      Replace each character in the string using the given translation table.\n",
            " |      \n",
            " |        table\n",
            " |          Translation table, which must be a mapping of Unicode ordinals to\n",
            " |          Unicode ordinals, strings, or None.\n",
            " |      \n",
            " |      The table must implement lookup/indexing via __getitem__, for instance a\n",
            " |      dictionary or list.  If this operation raises LookupError, the character is\n",
            " |      left untouched.  Characters mapped to None are deleted.\n",
            " |  \n",
            " |  upper(self, /)\n",
            " |      Return a copy of the string converted to uppercase.\n",
            " |  \n",
            " |  zfill(self, width, /)\n",
            " |      Pad a numeric string with zeros on the left, to fill a field of the given width.\n",
            " |      \n",
            " |      The string is never truncated.\n",
            " |  \n",
            " |  ----------------------------------------------------------------------\n",
            " |  Static methods defined here:\n",
            " |  \n",
            " |  __new__(*args, **kwargs)\n",
            " |      Create and return a new object.  See help(type) for accurate signature.\n",
            " |  \n",
            " |  maketrans(...)\n",
            " |      Return a translation table usable for str.translate().\n",
            " |      \n",
            " |      If there is only one argument, it must be a dictionary mapping Unicode\n",
            " |      ordinals (integers) or characters to Unicode ordinals, strings or None.\n",
            " |      Character keys will be then converted to ordinals.\n",
            " |      If there are two arguments, they must be strings of equal length, and\n",
            " |      in the resulting dictionary, each character in x will be mapped to the\n",
            " |      character at the same position in y. If there is a third argument, it\n",
            " |      must be a string, whose characters will be mapped to None in the result.\n",
            "\n"
          ]
        }
      ]
    },
    {
      "cell_type": "markdown",
      "source": [
        "# The in operator for Strings"
      ],
      "metadata": {
        "id": "4j9ZevrXlUrs"
      }
    },
    {
      "cell_type": "code",
      "source": [
        "# nummber 1 to 3\n",
        "\n",
        "print('W' in message)\n",
        "print('old' in message)\n",
        "\n",
        "word = input('\\nEnter a word: ')\n",
        "if word in 'The big brown fox jump over the lazy dog':\n",
        "  print(f'The word is in the text')\n",
        "else:\n",
        "  print(f'The word is not in the text')"
      ],
      "metadata": {
        "colab": {
          "base_uri": "https://localhost:8080/"
        },
        "id": "YcbV4AnfFpI8",
        "outputId": "a96ee6a7-9b9a-4715-c236-d50475376efc"
      },
      "execution_count": null,
      "outputs": [
        {
          "output_type": "stream",
          "name": "stdout",
          "text": [
            "True\n",
            "False\n",
            "\n",
            "Enter a word: dog\n",
            "The word is in the text\n"
          ]
        }
      ]
    },
    {
      "cell_type": "markdown",
      "source": [
        "# Using a String in an iterative statement"
      ],
      "metadata": {
        "id": "i9fe6eTeHRvO"
      }
    },
    {
      "cell_type": "code",
      "source": [
        "# number 1 and 2\n",
        "\n",
        "for character in message:\n",
        "  print(character)\n",
        "\n",
        "i = 0\n",
        "while i < len(message):\n",
        "  print(message[i])\n",
        "  i += 1"
      ],
      "metadata": {
        "colab": {
          "base_uri": "https://localhost:8080/"
        },
        "id": "0kmHSIPCHEA-",
        "outputId": "63030a46-5a3e-4730-d76c-59ff6f357559"
      },
      "execution_count": null,
      "outputs": [
        {
          "output_type": "stream",
          "name": "stdout",
          "text": [
            "H\n",
            "E\n",
            "L\n",
            "L\n",
            "O\n",
            " \n",
            "W\n",
            "O\n",
            "R\n",
            "L\n",
            "D\n",
            "H\n",
            "E\n",
            "L\n",
            "L\n",
            "O\n",
            " \n",
            "W\n",
            "O\n",
            "R\n",
            "L\n",
            "D\n"
          ]
        }
      ]
    },
    {
      "cell_type": "markdown",
      "source": [
        "# Tuples"
      ],
      "metadata": {
        "id": "WxWaMXhWIEO7"
      }
    },
    {
      "cell_type": "code",
      "source": [
        "# Number 1 -4, 6 - 7\n",
        "\n",
        "tuplelist = (1, 2, 3, 4, 5)\n",
        "\n",
        "print(numberlist[0])\n",
        "print(numberlist[1])\n",
        "print(numberlist[2])\n",
        "print(numberlist[3])\n",
        "print(numberlist[4])\n",
        "\n",
        "print(tuplelist + (1,2,3))\n",
        "new_tuplelist = (15,) + tuplelist[1:]\n",
        "print(new_tuplelist)\n",
        "\n",
        "for numberlist in range(0, 4):\n",
        "  print(tuplelist)"
      ],
      "metadata": {
        "colab": {
          "base_uri": "https://localhost:8080/"
        },
        "id": "Gdao91A0IGJM",
        "outputId": "a7e1a468-9fe8-46ef-a289-b43fea853b4b"
      },
      "execution_count": null,
      "outputs": [
        {
          "output_type": "stream",
          "name": "stdout",
          "text": [
            "1\n",
            "2\n",
            "3\n",
            "4\n",
            "5\n",
            "(1, 2, 3, 4, 5, 1, 2, 3)\n",
            "(15, 2, 3, 4, 5)\n",
            "(1, 2, 3, 4, 5)\n",
            "(1, 2, 3, 4, 5)\n",
            "(1, 2, 3, 4, 5)\n",
            "(1, 2, 3, 4, 5)\n"
          ]
        }
      ]
    },
    {
      "cell_type": "markdown",
      "source": [
        " # Number 5\n",
        "\n",
        "> This sample demonstrates the creation and manipulation of tuples in Python, including their combination and partial selection. It may, however, make a minor error by using the incorrect list name, serving as a reminder to us to use caution when naming our variables to prevent unexpected outcomes.\n",
        "\n"
      ],
      "metadata": {
        "id": "w5tH9AEtmr1W"
      }
    },
    {
      "cell_type": "markdown",
      "source": [
        "# Dictionaries"
      ],
      "metadata": {
        "id": "nE1T5H6wmUie"
      }
    },
    {
      "cell_type": "code",
      "source": [
        "# Number 1 - 6\n",
        "\n",
        "contactinfo = {'id': 1, \"first_name\": \"John\", \"last_name\": \"Doe\", \"contact_number\":\"09060611233\", \"age\": \"16\"}\n",
        "print(contactinfo[\"id\"])\n",
        "print(contactinfo[\"first_name\"])\n",
        "print(contactinfo[\"last_name\"])\n",
        "print(contactinfo[\"contact_number\"])\n",
        "print(contactinfo[\"age\"])\n",
        "\n",
        "print(\" \")\n",
        "for k in contactinfo:\n",
        "  print(k)\n",
        "\n",
        "print(\" \")\n",
        "for v in contactinfo:\n",
        "  print(v)"
      ],
      "metadata": {
        "colab": {
          "base_uri": "https://localhost:8080/"
        },
        "id": "EcFUYDMumZJH",
        "outputId": "1cd888fb-5b79-4acd-e5a3-c7bd38959b3a"
      },
      "execution_count": 12,
      "outputs": [
        {
          "output_type": "stream",
          "name": "stdout",
          "text": [
            "1\n",
            "John\n",
            "Doe\n",
            "09060611233\n",
            "16\n",
            " \n",
            "id\n",
            "first_name\n",
            "last_name\n",
            "contact_number\n",
            "age\n",
            " \n",
            "id\n",
            "first_name\n",
            "last_name\n",
            "contact_number\n",
            "age\n"
          ]
        }
      ]
    },
    {
      "cell_type": "markdown",
      "source": [
        "# Supplementary Activity"
      ],
      "metadata": {
        "id": "SPMTUlSZyB2N"
      }
    },
    {
      "cell_type": "code",
      "source": [
        "# Distance Formula\n",
        "\n",
        "x1 = int(input(\"Enter the value of x1: \"))\n",
        "y1 = int(input(\"Enter the value of y1: \"))\n",
        "x2 = int(input(\"Enter the value of x2: \"))\n",
        "y2 = int(input(\"Enter the value of y2: \"))\n",
        "\n",
        "import math\n",
        "d = math.sqrt((x2 - x1)**2 + (y2 - y1)**2)\n",
        "print(\" \")\n",
        "print(f\"The distance of this coordinate is: {d:.4f}\")"
      ],
      "metadata": {
        "colab": {
          "base_uri": "https://localhost:8080/"
        },
        "id": "MiLUXGocyFmU",
        "outputId": "984ca449-32a1-4707-b8de-cf37f1289e20"
      },
      "execution_count": null,
      "outputs": [
        {
          "output_type": "stream",
          "name": "stdout",
          "text": [
            "Enter the value of x1: 1\n",
            "Enter the value of y1: 1\n",
            "Enter the value of x2: 2\n",
            "Enter the value of y2: 3\n",
            " \n",
            "The distance of this coordinate is: 2.2361\n"
          ]
        }
      ]
    },
    {
      "cell_type": "code",
      "source": [
        "# Simple Word Filter\n",
        "\n",
        "x = str(input(\"Enter a word: \"))\n",
        "\n",
        "if x == \"stupid\":\n",
        "  print(f\"\\nThe word you input is ******\")\n",
        "elif x == \"STUPID\":\n",
        "  print(f\"\\nThe word you input is ******\")\n",
        "else:\n",
        "  print(f\"\\nThe word you input is {x}\")"
      ],
      "metadata": {
        "id": "nNt9gLFO1FLk",
        "colab": {
          "base_uri": "https://localhost:8080/"
        },
        "outputId": "cca2119b-a090-4739-9465-a78470eafa7d"
      },
      "execution_count": 10,
      "outputs": [
        {
          "output_type": "stream",
          "name": "stdout",
          "text": [
            "Enter a word: STUPID\n",
            "\n",
            "The word you input is ******\n"
          ]
        }
      ]
    },
    {
      "cell_type": "code",
      "source": [
        "phonebook = [{\"id\": 1, \"Name\": \"Justine\", \"Number\": \"09123597125\", \"Address\": \"University of Caloocan City\" },\n",
        "             {\"id\": 2, \"Name\": \"Bryan\", \"Number\": \"09224516701\", \"Address\": \"University of Caloocan City\" },\n",
        "             {\"id\": 3, \"Name\": \"Jezreel\", \"Number\": \"098769000921\", \"Address\": \"University of Caloocan City\" }]\n",
        "\n",
        "contact = int(input(\"Enter Contact ID: \"))\n",
        "for x in phonebook:\n",
        "  if x[\"id\"] == contact:\n",
        "    print(f\"Name: {x['Name']}\")\n",
        "    print(f\"Number: {x['Number']}\")\n",
        "    print(f\"Address: {x['Address']}\")\n",
        "    break\n",
        "  else:\n",
        "    pass"
      ],
      "metadata": {
        "colab": {
          "base_uri": "https://localhost:8080/"
        },
        "id": "p3e8U_CYbJiH",
        "outputId": "de45fa64-1ee9-4fa3-a2b0-f27e0c342be8"
      },
      "execution_count": 67,
      "outputs": [
        {
          "output_type": "stream",
          "name": "stdout",
          "text": [
            "Enter Contact ID: 3\n",
            "Name: Jezreel\n",
            "Number: 098769000921\n",
            "Address: University of Caloocan City\n"
          ]
        }
      ]
    },
    {
      "cell_type": "markdown",
      "source": [
        "# Number 1\n",
        "\n",
        "> Lists, tuples, and strings can all have their elements displayed by iterating over them with a `for` loop or by utilizing indexing to retrieve certain elements. This enables you to see all of the elements at once or just one at a time.\n",
        "\n"
      ],
      "metadata": {
        "id": "qqIj52r5qU1n"
      }
    },
    {
      "cell_type": "markdown",
      "source": [
        "# Number 2\n",
        "\n",
        "> An ordered, modifiable collection of objects is called a list, and it's helpful for keeping a flexible collection where things can change. An ordered, unchangeable collection, a tuple is perfect for holding unchanging data, such as configuration values or coordinates. A dictionary is an unordered, mutable collection of key-value pairs that is ideal for storing data that can be accessed by a unique identifier, whereas a string is an immutable sequence of characters used for textual data such as names or messages.\n",
        "\n",
        "\n",
        "\n",
        "\n"
      ],
      "metadata": {
        "id": "XGZ8-WtZqF8n"
      }
    },
    {
      "cell_type": "markdown",
      "source": [
        "# Number 3\n",
        "\n",
        "> You may change the case, replace text, remove spaces, and split the string into a list using string methods like `lower()`, `upper()`, `replace()`, `strip()`, and `split()`.\n",
        "\n"
      ],
      "metadata": {
        "id": "1cjp1RVfq1nm"
      }
    },
    {
      "cell_type": "markdown",
      "source": [
        "# Conclusion\n",
        "\n",
        "> In summary, mapping types like dictionaries offer a flexible way to store and access data through unique keys, whereas sequence types like lists, tuples, and strings enable ordered, indexed collections of data. Lists are changeable, while tuples and strings are unchangeable. To manage and organize data in Python scripts efficiently, one must be aware of various data types.\n",
        "\n"
      ],
      "metadata": {
        "id": "2jaZ0LmRr8GH"
      }
    }
  ]
}