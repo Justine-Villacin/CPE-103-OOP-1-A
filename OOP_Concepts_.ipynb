{
  "nbformat": 4,
  "nbformat_minor": 0,
  "metadata": {
    "colab": {
      "provenance": [],
      "authorship_tag": "ABX9TyNgAackPRKHNTyjGuMP8oYd",
      "include_colab_link": true
    },
    "kernelspec": {
      "name": "python3",
      "display_name": "Python 3"
    },
    "language_info": {
      "name": "python"
    }
  },
  "cells": [
    {
      "cell_type": "markdown",
      "metadata": {
        "id": "view-in-github",
        "colab_type": "text"
      },
      "source": [
        "<a href=\"https://colab.research.google.com/github/Justine-Villacin/CPE-103-OOP-1-A/blob/main/OOP_Concepts_.ipynb\" target=\"_parent\"><img src=\"https://colab.research.google.com/assets/colab-badge.svg\" alt=\"Open In Colab\"/></a>"
      ]
    },
    {
      "cell_type": "markdown",
      "source": [
        "Syntax Class"
      ],
      "metadata": {
        "id": "cDJTWybm7VLW"
      }
    },
    {
      "cell_type": "code",
      "source": [
        "class Car:\n",
        "    pass\n"
      ],
      "metadata": {
        "id": "UwMTifA-w4Vo"
      },
      "execution_count": null,
      "outputs": []
    },
    {
      "cell_type": "code",
      "source": [
        "class Car:\n",
        "  car_type = \"Sedan\"\n",
        "\n",
        "def __init__(self, name, mileage):\n",
        "  self.name = name\n",
        "  self.mileage = mileage\n",
        "\n",
        "def description(self):\n",
        "  return \"The{self.name} car give the mileage of {self.mileage}km/l\"\n",
        "\n",
        "def max_speed(self, speed):\n",
        "  return \"The{self.name} runs at the maximum speed of {speed}km/h\""
      ],
      "metadata": {
        "id": "pEfbe2JI_fdB"
      },
      "execution_count": null,
      "outputs": []
    },
    {
      "cell_type": "markdown",
      "source": [
        "Multiple Objects with the same class"
      ],
      "metadata": {
        "id": "Q8H1z7-i7ro3"
      }
    },
    {
      "cell_type": "code",
      "source": [
        "class Car: #parent class\n",
        "\n",
        "  def __init__(self, name, mileage):\n",
        "    self.name = name\n",
        "    self.mileage = mileage\n",
        "\n",
        "  def description(self):\n",
        "    return f\"The {self.name} car gives the mileage of {self.mileage} km/l\"\n",
        "\n",
        "class BMW(Car): #child class\n",
        "  pass\n",
        "\n",
        "class Audi(Car): #child class\n",
        "  def audi_desc(self):\n",
        "    return \"This is the description method of class Audi\"\n",
        "\n",
        "\n",
        "bmw = BMW(\"BMW 7-series\", 39.35)\n",
        "print (bmw.description())\n",
        "\n",
        "audi = Audi(\"Audi A8 L\", 14)\n",
        "print (audi.description())\n",
        "print (audi.audi_desc())"
      ],
      "metadata": {
        "colab": {
          "base_uri": "https://localhost:8080/"
        },
        "id": "sbitNVWpAFbx",
        "outputId": "53f5d900-af43-47ff-d97a-a41ac34f5b44"
      },
      "execution_count": null,
      "outputs": [
        {
          "output_type": "stream",
          "name": "stdout",
          "text": [
            "The BMW 7-series car gives the mileage of 39.35 km/l\n",
            "The Audi A8 L car gives the mileage of 14 km/l\n",
            "This is the description method of class Audi\n"
          ]
        }
      ]
    },
    {
      "cell_type": "markdown",
      "source": [
        "Apply the OOP concept like class constructor, methods, inheritance to describe the the sides of shapes (e.g. Triangle, Square, Rectangle)"
      ],
      "metadata": {
        "id": "I7XZtgiAEXnb"
      }
    },
    {
      "cell_type": "code",
      "source": [
        "class Shapes: #parent class\n",
        "\n",
        "  def __init__(self, name, sides):\n",
        "    self.name = name\n",
        "    self.sides = sides\n",
        "\n",
        "  def description(self):\n",
        "    return f\"The {self.name} has {self.sides} sides\"\n",
        "\n",
        "class Triangle(Shapes): #child class\n",
        "  def Triangle_desc(self):\n",
        "    return \"This is the description method of class Triangle\"\n",
        "\n",
        "class Square(Shapes): #child class\n",
        "  def Square_desc(self):\n",
        "    return \"This is the description method of class Square\"\n",
        "\n",
        "class Rectangle(Shapes): #child class\n",
        "  def Rectangle_desc(self):\n",
        "    return \"This is the description method of class Rectangle\"\n",
        "\n",
        "triangle = Triangle(\"Triangle\", 3)\n",
        "print (triangle.description())\n",
        "print (triangle.Triangle_desc() + \"\\n\")\n",
        "\n",
        "square = Square(\"Square\", 4)\n",
        "print (square.description())\n",
        "print (square.Square_desc() + \"\\n\")\n",
        "\n",
        "rectangle = Rectangle(\"Rectangle\", 4)\n",
        "print (rectangle.description())\n",
        "print (rectangle.Rectangle_desc() + \"\\n\")"
      ],
      "metadata": {
        "colab": {
          "base_uri": "https://localhost:8080/"
        },
        "id": "eK7h0DURElda",
        "outputId": "66417614-023a-4cea-e384-aad0c23de38d"
      },
      "execution_count": null,
      "outputs": [
        {
          "output_type": "stream",
          "name": "stdout",
          "text": [
            "The Triangle has 3 sides\n",
            "This is the description method of class Triangle\n",
            "\n",
            "The Square has 4 sides\n",
            "This is the description method of class Square\n",
            "\n",
            "The Rectangle has 4 sides\n",
            "This is the description method of class Rectangle\n",
            "\n"
          ]
        }
      ]
    },
    {
      "cell_type": "markdown",
      "source": [
        "Aircraft"
      ],
      "metadata": {
        "id": "ZFah4k8wMSL4"
      }
    },
    {
      "cell_type": "code",
      "source": [
        "class Aircraft:\n",
        "  def __init__(self, name, model):\n",
        "    self.name = name\n",
        "    self.model = model\n",
        "\n",
        "  def description(self):\n",
        "    return f\" The Aircraft {self.name} is {self.model} model\"\n",
        "\n",
        "class Airplane(Aircraft):\n",
        "    pass\n",
        "class Jet(Aircraft):\n",
        "    pass\n",
        "class FighterJet(Aircraft):\n",
        "    pass\n",
        "\n",
        "answer = input(\" Choose Aicraft \\n\\n 1. Airplane \\t 2. Jet \\t 3. FighterJet \\n\\n \")\n",
        "\n",
        "airplane = Airplane(\"Airplane\", 777)\n",
        "jet = Jet(\"Jet\", 555)\n",
        "fighterjet = FighterJet(\"FighterJet\", 666)\n",
        "\n",
        "if answer == \"1\":\n",
        "  print (airplane.description())\n",
        "elif answer == \"2\":\n",
        "  print (jet.description())\n",
        "elif answer == \"3\":\n",
        "  print (fighterjet.description())\n",
        "else:\n",
        "  print (\"Invalid Choice\")"
      ],
      "metadata": {
        "colab": {
          "base_uri": "https://localhost:8080/"
        },
        "id": "7Ir2WBYvMEfL",
        "outputId": "1303b65b-7360-4b33-8e97-f3cd17c98e51"
      },
      "execution_count": null,
      "outputs": [
        {
          "output_type": "stream",
          "name": "stdout",
          "text": [
            " Choose Aicraft \n",
            "\n",
            " 1. Airplane \t 2. Jet \t 3. FighterJet \n",
            "\n",
            " 1\n",
            " The Aircraft Airplane is 777 model\n"
          ]
        }
      ]
    }
  ]
}