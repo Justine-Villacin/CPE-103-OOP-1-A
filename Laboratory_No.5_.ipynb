{
  "nbformat": 4,
  "nbformat_minor": 0,
  "metadata": {
    "colab": {
      "provenance": [],
      "authorship_tag": "ABX9TyOBAxico/ZTz0r3GahTLKl2",
      "include_colab_link": true
    },
    "kernelspec": {
      "name": "python3",
      "display_name": "Python 3"
    },
    "language_info": {
      "name": "python"
    }
  },
  "cells": [
    {
      "cell_type": "markdown",
      "metadata": {
        "id": "view-in-github",
        "colab_type": "text"
      },
      "source": [
        "<a href=\"https://colab.research.google.com/github/Justine-Villacin/CPE-103-OOP-1-A/blob/main/Laboratory_No.5_.ipynb\" target=\"_parent\"><img src=\"https://colab.research.google.com/assets/colab-badge.svg\" alt=\"Open In Colab\"/></a>"
      ]
    },
    {
      "cell_type": "markdown",
      "source": [
        "# Builtinfunctions (evaluator.py)"
      ],
      "metadata": {
        "id": "gVSp5kjNW_oc"
      }
    },
    {
      "cell_type": "code",
      "source": [
        "# Propositional logic evaluator for discrete math\n",
        "\n",
        "num_variables = int(input(\"How many variables? \"))\n",
        "\n",
        "expression = input(\"Enter the propositional logic expression: \")\n",
        "\n",
        "print(\"A B f\")\n",
        "for a in [0, 1]:\n",
        "    for b in [0, 1]:\n",
        "      if expression == \"B\":\n",
        "        print(f\"{a} {b} {b}\")\n",
        "\n",
        "num_variables = int(input(\"How many variables? \"))\n",
        "expression = input(\"Enter the propositional logic expression: \")\n",
        "\n",
        "print(\"A B f\")\n",
        "for a in [0, 1]:\n",
        "    for b in [0, 1]:\n",
        "      if expression == \"B\":\n",
        "        print(f\"{a} {b} {b}\")\n",
        "        break\n",
        ""
      ],
      "metadata": {
        "colab": {
          "base_uri": "https://localhost:8080/"
        },
        "id": "V6mcptoJYhEn",
        "outputId": "27da34b3-5666-4bd6-dee0-ffac491ecd7c"
      },
      "execution_count": 15,
      "outputs": [
        {
          "output_type": "stream",
          "name": "stdout",
          "text": [
            "How many variables? 3\n",
            "Enter the propositional logic expression: B\n",
            "A B f\n",
            "0 0 0\n",
            "0 1 1\n",
            "1 0 0\n",
            "1 1 1\n",
            "How many variables? 2\n",
            "Enter the propositional logic expression: C\n",
            "A B f\n"
          ]
        }
      ]
    },
    {
      "cell_type": "markdown",
      "source": [
        "# File Handling (filewriter.py)"
      ],
      "metadata": {
        "id": "qYWzj5IAZ6Ii"
      }
    },
    {
      "cell_type": "code",
      "source": [
        "name = \"Royce Chua\"\n",
        "file = open(\"newfile1.txt\", 'w')\n",
        "file.write(f\"Hello, {name}!\\n\")\n",
        "file.write(\"Isn't this amazing!\\n\")\n",
        "file.write(\"that we can create and write on text files \\n\")\n",
        "file.write(\"Using python\")\n",
        "file.close()\n",
        "\n",
        "name = \"Royce Chua\"\n",
        "file = open(\"newfile2.txt\", 'w')\n",
        "file.write(\"excluding the'___'\\n\")\n",
        "file.write(\"This message was created using Python!\\n\")\n",
        "file.close()"
      ],
      "metadata": {
        "id": "7z_QUpFmZ-FX"
      },
      "execution_count": 16,
      "outputs": []
    },
    {
      "cell_type": "markdown",
      "source": [
        "# Filereader.py"
      ],
      "metadata": {
        "id": "PaXnmSEjaD_t"
      }
    },
    {
      "cell_type": "code",
      "source": [
        "file = open(\"newfile1.txt\", 'r')\n",
        "data = file.read ()\n",
        "print (data)\n",
        "file.close ()\n",
        "\n",
        "file = open(\"newfile2.txt\", 'r')\n",
        "data = file.read ()\n",
        "print (data)\n",
        "file.close ()"
      ],
      "metadata": {
        "colab": {
          "base_uri": "https://localhost:8080/"
        },
        "id": "pBL6SDICaGtH",
        "outputId": "971cabf2-6842-4e9d-d46d-43c8e70a6f0a"
      },
      "execution_count": 17,
      "outputs": [
        {
          "output_type": "stream",
          "name": "stdout",
          "text": [
            "Hello, Royce Chua!\n",
            "Isn't this amazing!\n",
            "that we can create and write on text files \n",
            "Using python\n",
            "excluding the'___'\n",
            "This message was created using Python!\n",
            "\n"
          ]
        }
      ]
    },
    {
      "cell_type": "markdown",
      "source": [
        "# Fileappender.py"
      ],
      "metadata": {
        "id": "RLqs_-ZRaMxk"
      }
    },
    {
      "cell_type": "code",
      "source": [
        "file = open(\"newfile2.txt\", 'a')\n",
        "file.write (\"and also by the programmer of course.\")\n",
        "file.close"
      ],
      "metadata": {
        "colab": {
          "base_uri": "https://localhost:8080/"
        },
        "id": "okjBF948aSjr",
        "outputId": "a9042299-1d35-48cb-becb-ba3efbfda1bb"
      },
      "execution_count": 18,
      "outputs": [
        {
          "output_type": "execute_result",
          "data": {
            "text/plain": [
              "<function TextIOWrapper.close()>"
            ]
          },
          "metadata": {},
          "execution_count": 18
        }
      ]
    },
    {
      "cell_type": "markdown",
      "source": [
        "# Userfunctions (truthtablegenerator.py)"
      ],
      "metadata": {
        "id": "oYW1ySe6aYZS"
      }
    },
    {
      "cell_type": "code",
      "source": [
        "def generate_truthtable(number_of_variables=0):\n",
        "    if number_of_variables == 0:\n",
        "        return \"You need to enter an integer\"\n",
        "    else:\n",
        "        total_combinations = 2**number_of_variables\n",
        "        combinations_list = []\n",
        "        for i in range(total_combinations):\n",
        "            bin_equivalent = bin(i)[2:].zfill(number_of_variables)\n",
        "            combinations_list.append(tuple(int(val) for val in bin_equivalent))\n",
        "        return combinations_list\n",
        "\n",
        "def evaluate_propositional_logic(c_list):\n",
        "    expression = input(\"Enter the propositional logic expression: \")\n",
        "\n",
        "    if len(c_list[0]) == 2:\n",
        "        print(\"A B f\")\n",
        "        for A, B in c_list:\n",
        "            print(A, B, eval(expression))\n",
        "    elif len(c_list[0]) == 3:\n",
        "        print(\"A B C f\")\n",
        "        for A, B, C in c_list:\n",
        "            print(A, B, C, eval(expression))\n",
        "\n",
        "evaluate_propositional_logic(generate_truthtable(3))\n"
      ],
      "metadata": {
        "colab": {
          "base_uri": "https://localhost:8080/"
        },
        "id": "edxl-W7EadQA",
        "outputId": "14ddccda-66ee-4071-d57f-05fb22e05686"
      },
      "execution_count": 19,
      "outputs": [
        {
          "output_type": "stream",
          "name": "stdout",
          "text": [
            "Enter the propositional logic expression: 3\n",
            "A B C f\n",
            "0 0 0 3\n",
            "0 0 1 3\n",
            "0 1 0 3\n",
            "0 1 1 3\n",
            "1 0 0 3\n",
            "1 0 1 3\n",
            "1 1 0 3\n",
            "1 1 1 3\n"
          ]
        }
      ]
    },
    {
      "cell_type": "markdown",
      "source": [
        "# Observation\n",
        "\n",
        "> In `generate_truthtable`, the function returns a list that must be printed separately, whereas in `evaluator.py`, values are printed directly within the loop, displaying them automatically during execution.\n",
        "\n"
      ],
      "metadata": {
        "id": "DuJvWKIiajfG"
      }
    },
    {
      "cell_type": "markdown",
      "source": [
        "# MODULES"
      ],
      "metadata": {
        "id": "XxachI8YbJdA"
      }
    },
    {
      "cell_type": "markdown",
      "source": [
        "# modules1 (mathmodule.py)"
      ],
      "metadata": {
        "id": "Vz9Ya6IYbPNE"
      }
    },
    {
      "cell_type": "code",
      "source": [
        "import math\n",
        "\n",
        "def quadratic_formula(a,b,c):\n",
        "    if b**2-(4*a*c) <0:\n",
        "        x1 = (complex(-b,math.floor(math.sqrt(abs (b**2-(4*a*c))))))/2*a\n",
        "        x2 = (complex(-b,-1*math.floor(math.sqrt(abs(b**2-(4*a*c))))))/2*a\n",
        "        return x1, x2\n",
        "    else:\n",
        "        x1 = (-b+math.sqrt(b**2-(4*a*c)))/(2*a)\n",
        "        x2= (-b-math.sqrt(b**2-(4*a*c)))/(2*a)\n",
        "        return x1, x2\n",
        "\n",
        "print (quadratic_formula(1,2,3))"
      ],
      "metadata": {
        "colab": {
          "base_uri": "https://localhost:8080/"
        },
        "id": "7oGGJ1NObLA7",
        "outputId": "4d80582d-6154-418e-e356-7c31ad36a3f1"
      },
      "execution_count": 20,
      "outputs": [
        {
          "output_type": "stream",
          "name": "stdout",
          "text": [
            "((-1+1j), (-1-1j))\n"
          ]
        }
      ]
    },
    {
      "cell_type": "markdown",
      "source": [
        "# mathmodule2.py"
      ],
      "metadata": {
        "id": "49-DQWAWbbQY"
      }
    },
    {
      "cell_type": "code",
      "source": [
        "import math\n",
        "def angle_demo():\n",
        "    angle = math.sin(math.pi/2)\n",
        "    print(angle)\n",
        "    angle =  math.sin(math.radians (90))\n",
        "    print(angle)\n",
        "\n",
        "angle_demo()"
      ],
      "metadata": {
        "colab": {
          "base_uri": "https://localhost:8080/"
        },
        "id": "NS1zs8Flbg2p",
        "outputId": "860b10cc-f7f1-4ac7-bb1d-dbb6fb887c3e"
      },
      "execution_count": 21,
      "outputs": [
        {
          "output_type": "stream",
          "name": "stdout",
          "text": [
            "1.0\n",
            "1.0\n"
          ]
        }
      ]
    },
    {
      "cell_type": "markdown",
      "source": [
        "# dateandtime.py"
      ],
      "metadata": {
        "id": "WVRNCnwrbnQS"
      }
    },
    {
      "cell_type": "code",
      "source": [
        "import time\n",
        "\n",
        "def pause():\n",
        "    for i in range (10, 0, -1):\n",
        "        print (f\"The program will end in {i}..\")\n",
        "        time.sleep(1)\n",
        "\n",
        "def current_time():\n",
        "    t = time.strftime(\"%I:%M %p\")\n",
        "    return t\n",
        "\n",
        "def current_date():\n",
        "    d = time.strftime(\"%b %d %Y\")\n",
        "    return d"
      ],
      "metadata": {
        "id": "hCYGdTZvbqB1"
      },
      "execution_count": 22,
      "outputs": []
    },
    {
      "cell_type": "markdown",
      "source": [
        "# modules1 (main.py)"
      ],
      "metadata": {
        "id": "KLz0GhdObxni"
      }
    },
    {
      "cell_type": "code",
      "source": [
        "print (\"The current time is\", current_time())\n",
        "print (\"The current date is\", current_date())"
      ],
      "metadata": {
        "colab": {
          "base_uri": "https://localhost:8080/"
        },
        "id": "AbEEdulIby7s",
        "outputId": "de9227f1-c1bf-4fe0-a2d3-f2442146d0a4"
      },
      "execution_count": 23,
      "outputs": [
        {
          "output_type": "stream",
          "name": "stdout",
          "text": [
            "The current time is 09:28 AM\n",
            "The current date is Feb 25 2025\n"
          ]
        }
      ]
    },
    {
      "cell_type": "markdown",
      "source": [
        "# Supplementary Activity"
      ],
      "metadata": {
        "id": "rf4RdwZAcHnb"
      }
    },
    {
      "cell_type": "markdown",
      "source": [
        "# Simple Word Filter"
      ],
      "metadata": {
        "id": "cGXKpzXqcNMR"
      }
    },
    {
      "cell_type": "code",
      "source": [
        "# Simple word filter\n",
        "\n",
        "badwords = [\"stupid\", \"fuck\", \"ugly\", \"shit\", \"dumb\", \"crazy\"]\n",
        "words = input(\"Input Words: \")\n",
        "\n",
        "for x in badwords:\n",
        "    words = words.replace(x, \"*\" * len(x))\n",
        "\n",
        "print (words)"
      ],
      "metadata": {
        "colab": {
          "base_uri": "https://localhost:8080/"
        },
        "id": "wd9KoX0IcQfO",
        "outputId": "adc4dbff-1467-4865-ace4-3df0d915f325"
      },
      "execution_count": 24,
      "outputs": [
        {
          "output_type": "stream",
          "name": "stdout",
          "text": [
            "Input Words: You're so fucking crazy\n",
            "You're so ****ing *****\n"
          ]
        }
      ]
    },
    {
      "cell_type": "markdown",
      "source": [
        "# Projectile Motion Solver"
      ],
      "metadata": {
        "id": "5xWvo1qdcaS0"
      }
    },
    {
      "cell_type": "code",
      "source": [
        "# Projectile motion solver\n",
        "import math\n",
        "velocity = float(input(\"Input Velocity: \"))\n",
        "vsquared = velocity ** 2\n",
        "angle = float(input(\"Input Angle: \"))\n",
        "gravity = 9.8\n",
        "sin = math.sin(math.radians(2 * angle))\n",
        "\n",
        "# Calculating the Range of the Projectile Motion\n",
        "Range = (vsquared * sin)/gravity\n",
        "print(f\"The Range of the Projectile: {Range:.4f} meters \" )\n",
        "\n",
        "# Calculating the Maximum Height of the Projectile Motion\n",
        "Height = (vsquared * sin)/ (2 * gravity)\n",
        "print(f\"The Maximum Height of the Projectile: {Height:.4f} meters \")"
      ],
      "metadata": {
        "colab": {
          "base_uri": "https://localhost:8080/"
        },
        "id": "CYSW9e4XcLSM",
        "outputId": "8c2fb1be-2f31-4d17-9e26-95af3af75f98"
      },
      "execution_count": 25,
      "outputs": [
        {
          "output_type": "stream",
          "name": "stdout",
          "text": [
            "Input Velocity: 11\n",
            "Input Angle: 22\n",
            "The Range of the Projectile: 8.5769 meters \n",
            "The Maximum Height of the Projectile: 4.2885 meters \n"
          ]
        }
      ]
    },
    {
      "cell_type": "markdown",
      "source": [
        "# Quadratic Equation"
      ],
      "metadata": {
        "id": "qFjZWTxucmKB"
      }
    },
    {
      "cell_type": "code",
      "source": [
        "# Quadratic Equation Solver\n",
        "\n",
        "a = float(input(\"Enter A: \"))\n",
        "b = float(input(\"Enter B: \"))\n",
        "c = float(input(\"Enter C: \"))\n",
        "\n",
        "# Calculating the X\n",
        "import math\n",
        "inside = ((b ** 2)- (4 * a * c))\n",
        "x = (-b + math.sqrt(inside)) /(2*a)\n",
        "y = (-b - math.sqrt(inside)) /(2*a)\n",
        "print(\"Roots: \", (x, y))"
      ],
      "metadata": {
        "colab": {
          "base_uri": "https://localhost:8080/"
        },
        "id": "SntYCQhncoTK",
        "outputId": "4548d6d9-43a2-4d50-f562-37f6148960af"
      },
      "execution_count": 26,
      "outputs": [
        {
          "output_type": "stream",
          "name": "stdout",
          "text": [
            "Enter A: 5\n",
            "Enter B: 6\n",
            "Enter C: 1\n",
            "Roots:  (-0.2, -1.0)\n"
          ]
        }
      ]
    }
  ]
}