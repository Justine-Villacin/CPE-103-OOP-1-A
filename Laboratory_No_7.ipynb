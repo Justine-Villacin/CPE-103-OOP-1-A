{
  "nbformat": 4,
  "nbformat_minor": 0,
  "metadata": {
    "colab": {
      "provenance": [],
      "authorship_tag": "ABX9TyPirX5ELcgBd1Wylh5ZpBaf",
      "include_colab_link": true
    },
    "kernelspec": {
      "name": "python3",
      "display_name": "Python 3"
    },
    "language_info": {
      "name": "python"
    }
  },
  "cells": [
    {
      "cell_type": "markdown",
      "metadata": {
        "id": "view-in-github",
        "colab_type": "text"
      },
      "source": [
        "<a href=\"https://colab.research.google.com/github/Justine-Villacin/CPE-103-OOP-1-A/blob/main/Laboratory_No_7.ipynb\" target=\"_parent\"><img src=\"https://colab.research.google.com/assets/colab-badge.svg\" alt=\"Open In Colab\"/></a>"
      ]
    },
    {
      "cell_type": "code",
      "execution_count": 17,
      "metadata": {
        "colab": {
          "base_uri": "https://localhost:8080/"
        },
        "id": "hhbtJ9TOSI58",
        "outputId": "4edcd723-3ded-4539-eb33-70a643dd24e1"
      },
      "outputs": [
        {
          "output_type": "stream",
          "name": "stdout",
          "text": [
            "Enter feet and inches of distance 1: 3 4\n",
            "Enter feet and inches of distance 2: 5 6\n",
            "Distance 2 is greater than distance 1\n",
            "The sum of the distances is: \n",
            "Feet =  8 Inches =  10\n"
          ]
        }
      ],
      "source": [
        "# distance is a class. Distance is measured in terms of feet and inches class distance:\n",
        "class distance:\n",
        "    def __init__(self, f, i):\n",
        "      self.feet = f\n",
        "      self.inches = i\n",
        "\n",
        "    # overloading of binary operator > to compare two distances\n",
        "    def __gt__(self, other):\n",
        "      if (self.feet > other.feet):\n",
        "        return True\n",
        "      elif (self.feet == other.feet) and (self.inches > other.inches):\n",
        "        return True\n",
        "      else:\n",
        "        return False\n",
        "\n",
        "    # overloading of binary operator + to add two distances\n",
        "    def __add__(self, other):\n",
        "      f = self.feet + other.feet\n",
        "      i = self.inches + other.inches\n",
        "      if (i >= 12):\n",
        "        i -= 12\n",
        "        f += 1\n",
        "      return distance(f, i)\n",
        "\n",
        "    # displaying the distance\n",
        "    def show(self):\n",
        "      print(\"Feet = \", self.feet, \"Inches = \", self.inches)\n",
        "\n",
        "a, b = (input(\"Enter feet and inches of distance 1: \")).split()\n",
        "a = int(a)\n",
        "b = int(b)\n",
        "c, d = (input(\"Enter feet and inches of distance 2: \")).split()\n",
        "c = int(c)\n",
        "d = int(d)\n",
        "d1 = distance(a, b)\n",
        "d2 = distance(c, d)\n",
        "\n",
        "if (d1 > d2):\n",
        "    print(\"Distance 1 is greater than distance 2\")\n",
        "else:\n",
        "    print(\"Distance 2 is greater than distance 1\")\n",
        "\n",
        "d3 = d1 + d2\n",
        "print(\"The sum of the distances is: \")\n",
        "d3.show()"
      ]
    },
    {
      "cell_type": "code",
      "source": [
        "class RegularPolygon:\n",
        "    def __init__ (self, side):\n",
        "      self ._side = side\n",
        "class Square (RegularPolygon):\n",
        "    def area (self):\n",
        "      return self._side * self._side\n",
        "class EquilateralTriangle (RegularPolygon):\n",
        "    def area (self):\n",
        "      return self._side * self._side * 0.433\n",
        "\n",
        "obj1 = Square(4)\n",
        "obj2 = EquilateralTriangle(3)\n",
        "\n",
        "print (obj1.area())\n",
        "print (obj2.area())\n"
      ],
      "metadata": {
        "colab": {
          "base_uri": "https://localhost:8080/"
        },
        "id": "OFelNCHjX7H8",
        "outputId": "dc7daad3-b189-47d6-accb-f95403d43f39"
      },
      "execution_count": 23,
      "outputs": [
        {
          "output_type": "stream",
          "name": "stdout",
          "text": [
            "16\n",
            "3.897\n"
          ]
        }
      ]
    },
    {
      "cell_type": "markdown",
      "source": [
        "# Observation\n",
        "\n",
        "> My Observation in this program is the given class in this was regularpolygon or parentclass then need to calculate the area of the regularpolygon given by assigning a sub class of area in everypolygon.\n",
        "\n"
      ],
      "metadata": {
        "id": "I535OKhnY02l"
      }
    },
    {
      "cell_type": "markdown",
      "source": [
        "# Supplementary"
      ],
      "metadata": {
        "id": "GBq5AexfaEI8"
      }
    },
    {
      "cell_type": "code",
      "source": [
        "import math\n",
        "\n",
        "# Define RegularPolygon class\n",
        "class RegularPolygon:\n",
        "    def __init__(self, side):\n",
        "        self._side = side\n",
        "\n",
        "# Heptagon class (7 sides)\n",
        "class Heptagon(RegularPolygon):\n",
        "    def area(self):\n",
        "        return (7 / 4) * (self._side ** 2) * (1 / math.tan(math.pi / 7))\n",
        "\n",
        "# Nonagon class (9 sides)\n",
        "class Nonagon(RegularPolygon):\n",
        "    def area(self):\n",
        "        return (9 / 4) * (self._side ** 2) * (1 / math.tan(math.pi / 9))\n",
        "\n",
        "# Decagon class (10 sides)\n",
        "class Decagon(RegularPolygon):\n",
        "    def area(self):\n",
        "        return (5 / 2) * (self._side ** 2) * (1 / math.tan(math.pi / 10))\n",
        "\n",
        "\n",
        "obj6 = Heptagon(7)\n",
        "obj7 = Nonagon(9)\n",
        "obj8 = Decagon(10)\n",
        "\n",
        "\n",
        "print(f\"Area of Heptagon: {obj6.area():.2f}\")\n",
        "print(f\"Area of Nonagon: {obj7.area():.2f}\")\n",
        "print(f\"Area of Decagon: {obj8.area():.2f}\")\n",
        "\n"
      ],
      "metadata": {
        "colab": {
          "base_uri": "https://localhost:8080/"
        },
        "id": "gGPimmzUaHkd",
        "outputId": "9a22b2f3-0d42-4a26-ea3b-bf092ce3b158"
      },
      "execution_count": 26,
      "outputs": [
        {
          "output_type": "stream",
          "name": "stdout",
          "text": [
            "Area of Heptagon: 178.06\n",
            "Area of Nonagon: 500.73\n",
            "Area of Decagon: 769.42\n"
          ]
        }
      ]
    },
    {
      "cell_type": "markdown",
      "source": [
        "# Supplementary Questions\n",
        "\n",
        "> For these 3 regularpolygon I used a 2 decimal point indication.\n",
        "\n",
        "> Heptagon = Heptagon consist of 7 sides and I used the area of heptagon formula for me to calculate the area of this regularpolygon, after calculating i got 178.06 for the area.\n",
        "\n",
        "> Nonagon = Nonagon have 9 sides and I used also the formula for this regularpolygon to get the area, after calculating i got 500.73 for the area.\n",
        "\n",
        "> Decagon = have 10 sides and for us to get the exact area of this regularpolygon I need to used the area formula for this shape, after calculating i got 769.42 for the area.\n",
        "\n",
        "\n",
        "\n",
        "\n",
        "\n"
      ],
      "metadata": {
        "id": "N7OoQmUfczx8"
      }
    },
    {
      "cell_type": "markdown",
      "source": [
        "# Questions 1 - 5\n",
        "\n",
        "> Polymorphism is important because it allows objects to take on many forms, enabling code to treat different classes uniformly.\n",
        "\n",
        "\n",
        "> Polymorphism increases code reusability but can be difficult to implement and reduce readability.\n",
        "\n",
        "\n",
        "> The advantage is handling different file types through a common interface, while the disadvantage is increased complexity in handling file-specific nuances.\n",
        "\n",
        "\n",
        "> Consider the common interface objects will share and the performance implications of runtime method resolution when implementing polymorphism.\n",
        "\n",
        "\n",
        "> Polymorphism is used in actual programs to allow a single function to handle different types of objects, simplifying code and making it easier to extend programs.\n",
        "\n",
        "\n",
        "\n"
      ],
      "metadata": {
        "id": "HC_5cwB-eW_d"
      }
    },
    {
      "cell_type": "markdown",
      "source": [
        "# Conclusion\n",
        "\n",
        "> In conclusion, polymorphism enhances code flexibility, but requires careful implementation and consideration of its potential drawbacks.\n"
      ],
      "metadata": {
        "id": "DL_nJ6rxevOV"
      }
    }
  ]
}