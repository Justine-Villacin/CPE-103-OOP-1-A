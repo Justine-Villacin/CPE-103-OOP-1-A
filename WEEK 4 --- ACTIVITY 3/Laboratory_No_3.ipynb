{
  "nbformat": 4,
  "nbformat_minor": 0,
  "metadata": {
    "colab": {
      "provenance": [],
      "toc_visible": true,
      "authorship_tag": "ABX9TyMvM2Y8i52+JPGExCXhrBnv",
      "include_colab_link": true
    },
    "kernelspec": {
      "name": "python3",
      "display_name": "Python 3"
    },
    "language_info": {
      "name": "python"
    }
  },
  "cells": [
    {
      "cell_type": "markdown",
      "metadata": {
        "id": "view-in-github",
        "colab_type": "text"
      },
      "source": [
        "<a href=\"https://colab.research.google.com/github/Justine-Villacin/CPE-103-OOP-1-A/blob/main/Laboratory_No_3.ipynb\" target=\"_parent\"><img src=\"https://colab.research.google.com/assets/colab-badge.svg\" alt=\"Open In Colab\"/></a>"
      ]
    },
    {
      "cell_type": "markdown",
      "source": [
        "# Accounts"
      ],
      "metadata": {
        "id": "OnzdSxwUsYb2"
      }
    },
    {
      "cell_type": "code",
      "source": [
        "\"\"\"\n",
        "    Accounts.py\n",
        "\"\"\"\n",
        "class Accounts(): # create the class\n",
        "    def __init__(self, account_number,\n",
        "                 account_firstname,\n",
        "                 account_lastname,\n",
        "                 current_balance,\n",
        "                 address,\n",
        "                 email):\n",
        "\n",
        "        self.account_number = account_number\n",
        "        self.account_firstname = account_firstname\n",
        "        self.account_lastname = account_lastname\n",
        "        self.current_balance = current_balance\n",
        "        self.address = address\n",
        "        self.email = email\n",
        "\n",
        "    def update_address(self, new_address):\n",
        "        self.address = new_address\n",
        "\n",
        "    def update_email(self, new_email):\n",
        "        self.email = new_email"
      ],
      "metadata": {
        "id": "QSrjp32DsdKl"
      },
      "execution_count": 25,
      "outputs": []
    },
    {
      "cell_type": "markdown",
      "source": [
        "# ATM"
      ],
      "metadata": {
        "id": "fLRCtK8Es2dW"
      }
    },
    {
      "cell_type": "code",
      "source": [
        "\"\"\"\n",
        "    ATM.py\n",
        "\"\"\"\n",
        "\n",
        "class ATM():\n",
        "  def __init__(self, serial_number):\n",
        "    self.serial_number = serial_number #add self.serial_number and __init__\n",
        "  serial_number = 0\n",
        "\n",
        "  def deposit(self, account, amount):\n",
        "    account.current_balance = account.current_balance + amount\n",
        "    print(\"Deposit Complete\")\n",
        "\n",
        "  def withdraw(self, account, amount):\n",
        "    account.current_balance = account.current_balance - amount\n",
        "    print(\"Withdraw Complete\")\n",
        "\n",
        "  def check_currentBalance(self, account):\n",
        "    print(\"Current Balance: \", account.current_balance)"
      ],
      "metadata": {
        "id": "zX_KHkces4PN"
      },
      "execution_count": 26,
      "outputs": []
    },
    {
      "cell_type": "markdown",
      "source": [
        "# Main"
      ],
      "metadata": {
        "id": "B2uy6nLotD5X"
      }
    },
    {
      "cell_type": "code",
      "source": [
        "\"\"\"\n",
        "    Main.py\n",
        "\"\"\"\n",
        "\n",
        "Account1 = Accounts (account_number = 23456, account_firstname =\"Royce\",\n",
        "                     account_lastname=\"Chua\", current_balance = 1000,\n",
        "                     address = \"Silver Street Quezon City\",\n",
        "                     email = \"roycechua123@gmail.com\")\n",
        "\n",
        "print(\"Account 1\")\n",
        "print(\"First Name: \", Account1.account_firstname)\n",
        "print(\"Last Name: \", Account1.account_lastname)\n",
        "print(\"Current Balance: \", Account1.current_balance)\n",
        "print(\"Address: \", Account1.address)\n",
        "print(\"Email: \", Account1.email)\n",
        "\n",
        "print(\"\")\n",
        "\n",
        "Account2 = Accounts(account_number=123456, account_firstname=\"Royce\",\n",
        "                    account_lastname=\"Chua\",current_balance = 1000,\n",
        "                    address = \"Silver Street Quezon City\",\n",
        "                    email = \"roycechua123@gmail.com\")\n",
        "\n",
        "print(\"Account 2\")\n",
        "print(\"First Name: \", Account2.account_firstname)\n",
        "print(\"Last Name: \", Account2.account_lastname)\n",
        "print(\"Current Balance: \", Account2.current_balance)\n",
        "print(\"Address: \", Account2.address)\n",
        "print(\"Email: \", Account2.email)\n",
        "\n",
        "print(\"\")\n",
        "\n",
        "ATM1 = ATM(serial_number = 654321)\n",
        "ATM1.deposit(Account1, 500)\n",
        "ATM1.check_currentBalance(Account1)\n",
        "\n",
        "ATM1.deposit(Account2, 300)\n",
        "ATM1.check_currentBalance(Account2)"
      ],
      "metadata": {
        "colab": {
          "base_uri": "https://localhost:8080/"
        },
        "id": "TA_1ILZZtGkl",
        "outputId": "6febf5ef-eaff-4fd5-d5a3-839a97bc44da"
      },
      "execution_count": 27,
      "outputs": [
        {
          "output_type": "stream",
          "name": "stdout",
          "text": [
            "Account 1\n",
            "First Name:  Royce\n",
            "Last Name:  Chua\n",
            "Current Balance:  1000\n",
            "Address:  Silver Street Quezon City\n",
            "Email:  roycechua123@gmail.com\n",
            "\n",
            "Account 2\n",
            "First Name:  Royce\n",
            "Last Name:  Chua\n",
            "Current Balance:  1000\n",
            "Address:  Silver Street Quezon City\n",
            "Email:  roycechua123@gmail.com\n",
            "\n",
            "Deposit Complete\n",
            "Current Balance:  1500\n",
            "Deposit Complete\n",
            "Current Balance:  1300\n"
          ]
        }
      ]
    },
    {
      "cell_type": "markdown",
      "source": [
        "# Activity"
      ],
      "metadata": {
        "id": "ZpyfhsC1ueY_"
      }
    },
    {
      "cell_type": "code",
      "source": [
        "\"\"\"\n",
        "    ATM.py\n",
        "\"\"\"\n",
        "\n",
        "class ATM():\n",
        "  serial_number = 0\n",
        "\n",
        "  def __init__(self, serial_number):\n",
        "    self.serial_number = serial_number\n",
        "\n",
        "  def deposit(self, account, amount):\n",
        "    account.current_balance = account.current_balance + amount\n",
        "    print(\"Deposit Complete\")\n",
        "\n",
        "  def withdraw(self, account, amount):\n",
        "    account.current_balance = account.current_balance - amount\n",
        "    print(\"Withdraw Complete\")\n",
        "\n",
        "  def check_currentBalance(self, account):\n",
        "    print(f\"Current Balance: {account.current_balance}\")"
      ],
      "metadata": {
        "id": "icDcBGIyui0N"
      },
      "execution_count": 28,
      "outputs": []
    },
    {
      "cell_type": "code",
      "source": [
        "\"\"\"\n",
        "    Main.py\n",
        "\"\"\"\n",
        "\n",
        "Account1 = Accounts(account_number=123456, account_firstname=\"Royce\", account_lastname=\"Chua\",current_balance = 1000, address = \"Silver Street Quezon City\", email = \"roycechua123@gmail.com\")\n",
        "\n",
        "print(\"Account 1\")\n",
        "print(\"First Name: \", Account1.account_firstname)\n",
        "print(\"Last Name: \", Account1.account_lastname)\n",
        "print(\"Current Balance: \", Account1.current_balance)\n",
        "print(\"Address: \", Account1.address)\n",
        "print(\"Email: \", Account1.email)\n",
        "\n",
        "print(\"\\n\")\n",
        "\n",
        "Account2 = Accounts(account_number=123456, account_firstname=\"Royce\", account_lastname=\"Chua\",current_balance = 1000, address = \"Silver Street Quezon City\", email = \"roycechua123@gmail.com\")\n",
        "\n",
        "print(\"Account 2\")\n",
        "print(\"First Name: \", Account2.account_firstname)\n",
        "print(\"Last Name: \", Account2.account_lastname)\n",
        "print(\"Current Balance: \", Account2.current_balance)\n",
        "print(\"Address: \", Account2.address)\n",
        "print(\"Email: \", Account2.email)\n",
        "\n",
        "print(\"\\n\")\n",
        "\n",
        "ATM1 = ATM(serial_number = 654321)\n",
        "ATM1.deposit(Account1, 500)\n",
        "ATM1.check_currentBalance(Account1)\n",
        "\n",
        "ATM1.deposit(Account2, 300)\n",
        "ATM1.check_currentBalance(Account2)\n",
        "\n",
        "print(\"\\nATM Serial Number:\", ATM1.serial_number)"
      ],
      "metadata": {
        "colab": {
          "base_uri": "https://localhost:8080/"
        },
        "id": "F-fiveS7vEUV",
        "outputId": "d421f173-bad0-4b06-9386-216432a998e9"
      },
      "execution_count": 29,
      "outputs": [
        {
          "output_type": "stream",
          "name": "stdout",
          "text": [
            "Account 1\n",
            "First Name:  Royce\n",
            "Last Name:  Chua\n",
            "Current Balance:  1000\n",
            "Address:  Silver Street Quezon City\n",
            "Email:  roycechua123@gmail.com\n",
            "\n",
            "\n",
            "Account 2\n",
            "First Name:  Royce\n",
            "Last Name:  Chua\n",
            "Current Balance:  1000\n",
            "Address:  Silver Street Quezon City\n",
            "Email:  roycechua123@gmail.com\n",
            "\n",
            "\n",
            "Deposit Complete\n",
            "Current Balance: 1500\n",
            "Deposit Complete\n",
            "Current Balance: 1300\n",
            "\n",
            "ATM Serial Number: 654321\n"
          ]
        }
      ]
    },
    {
      "cell_type": "code",
      "source": [
        "\"\"\"\n",
        "    ATM.py\n",
        "\"\"\"\n",
        "class ATM():\n",
        "    serial_number = 0\n",
        "    transactions = []\n",
        "\n",
        "    def __init__(self, serial_number):\n",
        "        self.serial_number = serial_number\n",
        "\n",
        "    def deposit(self, account, amount):\n",
        "        account.current_balance = account.current_balance + amount\n",
        "        # use append method to add transaction details to the list\n",
        "        self.transactions(f\"Deposit: {amount} to account {account.account_number}\")\n",
        "        print(\"Deposit Complete\")\n",
        "\n",
        "    def withdraw(self, account, amount):\n",
        "        account.current_balance = account.current_balance - amount\n",
        "        # use append method to add transaction details to the list\n",
        "        self.transactions(f\"Withdrawal: {amount} from account {account.account_number}\")\n",
        "        print(\"Withdraw Complete\")\n",
        "\n",
        "    def check_currentBalance(self, account):\n",
        "        print(f\"Current Balance: {account.current_balance}\") # print each transaction detail\n",
        "\n",
        "    def view_transactionsummary(self):\n",
        "        print(\"Transaction Summary:\")\n",
        "        for transaction in self.transactions:\n",
        "          transaction.print()\n",
        "\n",
        "ATM1 = ATM(serial_number = 654321)\n",
        "ATM1.view_transactionsummary()"
      ],
      "metadata": {
        "colab": {
          "base_uri": "https://localhost:8080/"
        },
        "id": "GKtewLrHvhHd",
        "outputId": "07a28dd8-6a96-4c60-df45-cfc00ab9fba1"
      },
      "execution_count": 31,
      "outputs": [
        {
          "output_type": "stream",
          "name": "stdout",
          "text": [
            "Transaction Summary:\n"
          ]
        }
      ]
    },
    {
      "cell_type": "markdown",
      "source": [
        "# Questions\n"
      ],
      "metadata": {
        "id": "DwOiSy5m9dmL"
      }
    },
    {
      "cell_type": "markdown",
      "source": [
        "1. In Object-Oriented Programming (OOP), a class is a blueprint used to create objects. It specifies the form and characteristics of the items made from it.\n"
      ],
      "metadata": {
        "id": "T5fw5MJf9h-i"
      }
    },
    {
      "cell_type": "markdown",
      "source": [
        "2. Sequential programming works well for simpler tasks, but classes are useful for larger, more complicated systems that need organization, reusability, and maintainability.\n"
      ],
      "metadata": {
        "id": "JCQ5Y-w2_vIk"
      }
    },
    {
      "cell_type": "markdown",
      "source": [
        "\n",
        "3. While it's typical practice to use identical names for variables in multiple scopes to preserve clarity, it's usually advised to use descriptive names to prevent confusion, particularly in bigger systems. This technique improves readability and helps avoid errors in future code maintenance.\n"
      ],
      "metadata": {
        "id": "Dky6zxb7_xUL"
      }
    },
    {
      "cell_type": "markdown",
      "source": [
        "\n",
        "4. Constructors are crucial because they guarantee that objects are initialized with proper states at the time of creation, ready for use right away.\n"
      ],
      "metadata": {
        "id": "u8gucEVM_zBl"
      }
    },
    {
      "cell_type": "markdown",
      "source": [
        "5. Constructors make it easier to create objects, organize code, lower the possibility of mistakes, and make programming more maintainable overall."
      ],
      "metadata": {
        "id": "P3GuDIaV_0iN"
      }
    },
    {
      "cell_type": "markdown",
      "source": [
        "# Conclusion"
      ],
      "metadata": {
        "id": "BF-uwUR0_eZl"
      }
    },
    {
      "cell_type": "markdown",
      "source": [
        "In conclusion, there are a lot of benefits to utilizing constructors in programming as opposed to manually initializing variables. They improve encapsulation, lower the chance of errors, encourage better code structure and readability, and guarantee automated and consistent initialization of object characteristics. Constructors are a best practice in object-oriented programming because they make code more flexible and maintainable by encapsulating the initialization logic inside the class.\n",
        "\n",
        "\n",
        "\n"
      ],
      "metadata": {
        "id": "WE_yXKJ4_iH6"
      }
    }
  ]
}