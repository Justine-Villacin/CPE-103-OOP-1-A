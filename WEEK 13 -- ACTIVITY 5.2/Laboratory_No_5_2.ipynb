{
  "nbformat": 4,
  "nbformat_minor": 0,
  "metadata": {
    "colab": {
      "provenance": [],
      "authorship_tag": "ABX9TyPyda4v22aHjN4jziJ3VH9a",
      "include_colab_link": true
    },
    "kernelspec": {
      "name": "python3",
      "display_name": "Python 3"
    },
    "language_info": {
      "name": "python"
    }
  },
  "cells": [
    {
      "cell_type": "markdown",
      "metadata": {
        "id": "view-in-github",
        "colab_type": "text"
      },
      "source": [
        "<a href=\"https://colab.research.google.com/github/Justine-Villacin/CPE-103-OOP-1-A/blob/main/Laboratory_No_5_2.ipynb\" target=\"_parent\"><img src=\"https://colab.research.google.com/assets/colab-badge.svg\" alt=\"Open In Colab\"/></a>"
      ]
    },
    {
      "cell_type": "markdown",
      "source": [
        "# Text files and lines"
      ],
      "metadata": {
        "id": "C2YKArmfRyku"
      }
    },
    {
      "cell_type": "code",
      "execution_count": 36,
      "metadata": {
        "colab": {
          "base_uri": "https://localhost:8080/",
          "height": 36
        },
        "id": "g7D9aTtsQ6Nx",
        "outputId": "ba09d7f6-6388-425f-ff92-8762b8198afd"
      },
      "outputs": [
        {
          "output_type": "execute_result",
          "data": {
            "text/plain": [
              "'Hello\\nWorld!'"
            ],
            "application/vnd.google.colaboratory.intrinsic+json": {
              "type": "string"
            }
          },
          "metadata": {},
          "execution_count": 36
        }
      ],
      "source": [
        "stuff = 'Hello\\nWorld!'\n",
        "stuff"
      ]
    },
    {
      "cell_type": "code",
      "source": [
        "print(stuff)"
      ],
      "metadata": {
        "colab": {
          "base_uri": "https://localhost:8080/"
        },
        "id": "O4xlcWnGR8bU",
        "outputId": "abeb97f3-96db-470f-a941-467f6225004c"
      },
      "execution_count": 37,
      "outputs": [
        {
          "output_type": "stream",
          "name": "stdout",
          "text": [
            "Hello\n",
            "World!\n"
          ]
        }
      ]
    },
    {
      "cell_type": "code",
      "source": [
        "stuff = 'X\\nY'\n",
        "print(stuff)"
      ],
      "metadata": {
        "colab": {
          "base_uri": "https://localhost:8080/"
        },
        "id": "xbxiG007R4u9",
        "outputId": "26352c30-8d87-40cf-9fa0-dbc366735195"
      },
      "execution_count": 38,
      "outputs": [
        {
          "output_type": "stream",
          "name": "stdout",
          "text": [
            "X\n",
            "Y\n"
          ]
        }
      ]
    },
    {
      "cell_type": "code",
      "source": [
        "len(stuff)"
      ],
      "metadata": {
        "colab": {
          "base_uri": "https://localhost:8080/"
        },
        "id": "gbNnRDoJR_bO",
        "outputId": "640de8e4-0a9a-4ee0-a901-212c8df6c9eb"
      },
      "execution_count": 39,
      "outputs": [
        {
          "output_type": "execute_result",
          "data": {
            "text/plain": [
              "3"
            ]
          },
          "metadata": {},
          "execution_count": 39
        }
      ]
    },
    {
      "cell_type": "markdown",
      "source": [
        "# Reading files"
      ],
      "metadata": {
        "id": "byag48nMSCns"
      }
    },
    {
      "cell_type": "code",
      "source": [
        "fhand = open('mbox-short.txt')\n",
        "count = 0\n",
        "\n",
        "for line in fhand:\n",
        "  count = count + 1\n",
        "print('Line Count:', count)"
      ],
      "metadata": {
        "colab": {
          "base_uri": "https://localhost:8080/"
        },
        "id": "XYO9KMSnSECd",
        "outputId": "0a95f085-78cd-451d-9180-5af0fc879035"
      },
      "execution_count": 40,
      "outputs": [
        {
          "output_type": "stream",
          "name": "stdout",
          "text": [
            "Line Count: 1\n"
          ]
        }
      ]
    },
    {
      "cell_type": "code",
      "source": [
        "fhand = open('mbox-short.txt')\n",
        "inp = fhand.read()\n",
        "print(len(inp))"
      ],
      "metadata": {
        "colab": {
          "base_uri": "https://localhost:8080/"
        },
        "id": "oXIusyXDSI1N",
        "outputId": "9671fdd1-febd-4c96-bad7-39b62759b863"
      },
      "execution_count": 41,
      "outputs": [
        {
          "output_type": "stream",
          "name": "stdout",
          "text": [
            "14\n"
          ]
        }
      ]
    },
    {
      "cell_type": "code",
      "source": [
        "print(inp[:20])"
      ],
      "metadata": {
        "colab": {
          "base_uri": "https://localhost:8080/"
        },
        "id": "Sm9wvYhXSKF9",
        "outputId": "79543c91-f9da-4729-b488-c95b4be8b92c"
      },
      "execution_count": 42,
      "outputs": [
        {
          "output_type": "stream",
          "name": "stdout",
          "text": [
            "Laboratory 5.2\n"
          ]
        }
      ]
    },
    {
      "cell_type": "code",
      "source": [
        "fhand = open('mbox-short.txt')\n",
        "print(len(fhand.read()))"
      ],
      "metadata": {
        "colab": {
          "base_uri": "https://localhost:8080/"
        },
        "id": "LGvnF4eTSMpt",
        "outputId": "ce39c1b9-bd26-4931-9198-fa546bc5da26"
      },
      "execution_count": 43,
      "outputs": [
        {
          "output_type": "stream",
          "name": "stdout",
          "text": [
            "14\n"
          ]
        }
      ]
    },
    {
      "cell_type": "code",
      "source": [
        "print(len(fhand.read()))"
      ],
      "metadata": {
        "colab": {
          "base_uri": "https://localhost:8080/"
        },
        "id": "nDUCPdSsSN_l",
        "outputId": "c5ec9da7-15bc-4d39-845a-39ccdf905c23"
      },
      "execution_count": 44,
      "outputs": [
        {
          "output_type": "stream",
          "name": "stdout",
          "text": [
            "0\n"
          ]
        }
      ]
    },
    {
      "cell_type": "markdown",
      "source": [
        "# Searching through a file"
      ],
      "metadata": {
        "id": "s79YPTuQWSzE"
      }
    },
    {
      "cell_type": "code",
      "source": [
        "fhand = open('mbox-short.txt')\n",
        "for line in fhand:\n",
        "  if line.startswith('From:'):\n",
        "    print(line)"
      ],
      "metadata": {
        "id": "EvT5Dpn-WX99"
      },
      "execution_count": 45,
      "outputs": []
    },
    {
      "cell_type": "code",
      "source": [
        "fhand = open('mbox-short.txt')\n",
        "for line in fhand:\n",
        "  line = line.rstrip()\n",
        "  if line.startswith('From:'):\n",
        "    print(line)"
      ],
      "metadata": {
        "id": "JcysdhkeWkd-"
      },
      "execution_count": 46,
      "outputs": []
    },
    {
      "cell_type": "code",
      "source": [
        "fhand = open('mbox-short.txt')\n",
        "for line in fhand:\n",
        "  line = line.rstrip()\n",
        "  # Skip 'uninteresting lines'\n",
        "  if not line.startswith('From:'):\n",
        "    continue\n",
        "  # Process our 'interesting' line\n",
        "  print(line)"
      ],
      "metadata": {
        "id": "2EjAVK-6WrN0"
      },
      "execution_count": 47,
      "outputs": []
    },
    {
      "cell_type": "code",
      "source": [
        "fhand = open('mbox-short.txt')\n",
        "for line in fhand:\n",
        "  line = line.rstrip()\n",
        "  if line.find('@uct.ac.za') == -1: continue\n",
        "  print(line)"
      ],
      "metadata": {
        "id": "XVjILpFnWzP8"
      },
      "execution_count": 48,
      "outputs": []
    },
    {
      "cell_type": "markdown",
      "source": [
        "# Letting the user choose the file name"
      ],
      "metadata": {
        "id": "QGZXPgZGW7Cs"
      }
    },
    {
      "cell_type": "code",
      "source": [
        "fname = input('Enter the file name:')\n",
        "fhand = open(fname)\n",
        "count = 0\n",
        "for line in fhand:\n",
        "  if line.startswith('Subject:'):\n",
        "    count = count + 1\n",
        "print('There were', count, 'subject lines in', fname)"
      ],
      "metadata": {
        "colab": {
          "base_uri": "https://localhost:8080/"
        },
        "id": "4hzfSbFMW-_t",
        "outputId": "2b279c7a-42f2-4b7d-d3ad-36e2b412a481"
      },
      "execution_count": 49,
      "outputs": [
        {
          "output_type": "stream",
          "name": "stdout",
          "text": [
            "Enter the file name:mbox-short.txt\n",
            "There were 0 subject lines in mbox-short.txt\n"
          ]
        }
      ]
    },
    {
      "cell_type": "markdown",
      "source": [
        "# Using try, except, and open"
      ],
      "metadata": {
        "id": "Mxvf7GZvXZjn"
      }
    },
    {
      "cell_type": "code",
      "source": [
        "fname = input('Enter the file name:')\n",
        "try:\n",
        "  fhand = open(fname)\n",
        "except :\n",
        "  print('File cannot be opened:', fname)\n",
        "  exit()\n",
        "count = 0\n",
        "for line in fhand:\n",
        "  if line.startswith('Subject:'):\n",
        "    count = count + 1\n",
        "print('There were', count, 'subject lines in', fname)"
      ],
      "metadata": {
        "colab": {
          "base_uri": "https://localhost:8080/"
        },
        "id": "e6QGEBvXXUZM",
        "outputId": "fedabc7a-fc3c-4e8d-b91a-26587eafa929"
      },
      "execution_count": 50,
      "outputs": [
        {
          "output_type": "stream",
          "name": "stdout",
          "text": [
            "Enter the file name:output.txt\n",
            "There were 0 subject lines in output.txt\n"
          ]
        }
      ]
    },
    {
      "cell_type": "markdown",
      "source": [
        "# Writing files\n"
      ],
      "metadata": {
        "id": "P21Hm8OKXqkt"
      }
    },
    {
      "cell_type": "code",
      "source": [
        "fout = open('output.txt', 'w')\n",
        "print(fout)"
      ],
      "metadata": {
        "colab": {
          "base_uri": "https://localhost:8080/"
        },
        "id": "uc9Z7OxBXqA8",
        "outputId": "ce05c21d-bb94-4c7a-9827-e604df384bcd"
      },
      "execution_count": 51,
      "outputs": [
        {
          "output_type": "stream",
          "name": "stdout",
          "text": [
            "<_io.TextIOWrapper name='output.txt' mode='w' encoding='utf-8'>\n"
          ]
        }
      ]
    },
    {
      "cell_type": "code",
      "source": [
        "line1 = \"This here's the wattle, \\n\"\n",
        "fout.write(line1)\n",
        "\n"
      ],
      "metadata": {
        "colab": {
          "base_uri": "https://localhost:8080/"
        },
        "id": "hLw1ZNabXzyN",
        "outputId": "ccc16792-5596-4186-cff8-b31c0910e3bb"
      },
      "execution_count": 52,
      "outputs": [
        {
          "output_type": "execute_result",
          "data": {
            "text/plain": [
              "25"
            ]
          },
          "metadata": {},
          "execution_count": 52
        }
      ]
    },
    {
      "cell_type": "code",
      "source": [
        "line2 = 'the emblem of our land. \\n'\n",
        "fout.write(line2)\n",
        "\n"
      ],
      "metadata": {
        "colab": {
          "base_uri": "https://localhost:8080/"
        },
        "id": "_OeHHGXmX34U",
        "outputId": "b7dfdff2-27ec-484f-ca0c-2b04fcd41932"
      },
      "execution_count": 53,
      "outputs": [
        {
          "output_type": "execute_result",
          "data": {
            "text/plain": [
              "25"
            ]
          },
          "metadata": {},
          "execution_count": 53
        }
      ]
    },
    {
      "cell_type": "code",
      "source": [
        "fout.close()"
      ],
      "metadata": {
        "id": "Un3696U7X6ps"
      },
      "execution_count": 54,
      "outputs": []
    },
    {
      "cell_type": "markdown",
      "source": [
        "# Supplementary"
      ],
      "metadata": {
        "id": "qGNMjMTrX-OU"
      }
    },
    {
      "cell_type": "code",
      "source": [
        "supple = open('VILLACIN.txt')\n",
        "obs = supple.read()\n",
        "print(obs)\n",
        ""
      ],
      "metadata": {
        "colab": {
          "base_uri": "https://localhost:8080/"
        },
        "id": "oXhwxGPSX_l0",
        "outputId": "8630e5c5-b0e3-4f59-a7d8-a036503a1ba0"
      },
      "execution_count": 57,
      "outputs": [
        {
          "output_type": "stream",
          "name": "stdout",
          "text": [
            "VILLACIN\n"
          ]
        }
      ]
    },
    {
      "cell_type": "code",
      "source": [
        "#Create\n",
        "supple = open('VILLACIN.txt')\n",
        "\n",
        "#Read\n",
        "obs = supple.read()\n",
        "print(obs)\n"
      ],
      "metadata": {
        "colab": {
          "base_uri": "https://localhost:8080/"
        },
        "id": "b2_1Yd1tjpak",
        "outputId": "5a79e3e2-1f85-4673-81e5-e6b274bb8793"
      },
      "execution_count": 59,
      "outputs": [
        {
          "output_type": "stream",
          "name": "stdout",
          "text": [
            "VILLACIN\n"
          ]
        }
      ]
    },
    {
      "cell_type": "code",
      "source": [
        "#Update\n",
        "supple = open('VILLACIN.txt', 'w')\n",
        "line1 = \"Basic operations you can perform on data, especially in the context of databases or persistent storage systems.\"\n",
        "supple.write(line1)\n",
        "supple.close()\n",
        "\n",
        "#Read\n",
        "supple = open('VILLACIN.txt')\n",
        "obs = supple.read()\n",
        "print(obs)"
      ],
      "metadata": {
        "colab": {
          "base_uri": "https://localhost:8080/"
        },
        "id": "mA-iR2KhkLW8",
        "outputId": "dde5fe02-1bf1-47af-cf81-21a276a79be5"
      },
      "execution_count": 60,
      "outputs": [
        {
          "output_type": "stream",
          "name": "stdout",
          "text": [
            "Basic operations you can perform on data, especially in the context of databases or persistent storage systems.\n"
          ]
        }
      ]
    },
    {
      "cell_type": "code",
      "source": [
        "#Delete\n",
        "!unlink VILLACIN.txt"
      ],
      "metadata": {
        "id": "Ybpjv3yUkS8U"
      },
      "execution_count": 61,
      "outputs": []
    }
  ]
}